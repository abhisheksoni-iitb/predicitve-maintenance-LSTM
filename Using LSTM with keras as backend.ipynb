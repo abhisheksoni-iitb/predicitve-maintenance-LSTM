{
  "nbformat": 4,
  "nbformat_minor": 0,
  "metadata": {
    "colab": {
      "name": "Predictive Maintenance Notebook (GPU for keras ;) )",
      "provenance": [],
      "collapsed_sections": [
        "FuMtacdfoLWF"
      ],
      "toc_visible": true
    },
    "kernelspec": {
      "name": "python3",
      "display_name": "Python 3"
    },
    "accelerator": "GPU"
  },
  "cells": [
    {
      "cell_type": "markdown",
      "metadata": {
        "id": "toGcAI0KjyGk"
      },
      "source": [
        "# **Contents**\n",
        "\n",
        "\n",
        "1.   Data Importing\n",
        "2.   Data Preprocessing\n",
        "  \n",
        "  a. Normalising the DataFrame\n",
        "\n",
        "  b. Smoothening the Time-Series Data\n",
        "\n",
        "  c. Adjusting the RUL after smoothening the dataset\n",
        "\n",
        "\n",
        "3. Exploratory data analysis for Feature Selection\n",
        "4.   Models Builiding (trained on GPU)\n",
        "  \n",
        "  a. Libraries Importing\n",
        "\n",
        "  b. Dataset Generating Function for LSTM\n",
        "\n",
        "  c. Network Architecture\n",
        "\n",
        "  d. Training of the Model\n",
        "\n",
        "  e. Testing of the model\n",
        "  \n",
        "  f. RUL prediciton\n",
        "\n",
        "\n"
      ]
    },
    {
      "cell_type": "markdown",
      "metadata": {
        "id": "U0lJot6hj_N_"
      },
      "source": [
        "# Dataset"
      ]
    },
    {
      "cell_type": "markdown",
      "metadata": {
        "id": "LeYyk8PXkCXJ"
      },
      "source": [
        "## Mounting GDRive"
      ]
    },
    {
      "cell_type": "code",
      "metadata": {
        "id": "6z0WiWmRT5-K"
      },
      "source": [
        "# from google.colab import drive\n",
        "# drive.mount('/content/drive')"
      ],
      "execution_count": 1,
      "outputs": []
    },
    {
      "cell_type": "code",
      "metadata": {
        "id": "gxvc4F47M8P7",
        "outputId": "d00136be-f7da-4867-fef0-58f92d95a5fa",
        "colab": {
          "base_uri": "https://localhost:8080/"
        }
      },
      "source": [
        "import pandas as pd\n",
        "import numpy as np\n",
        "import matplotlib.pyplot as plt\n",
        "from sklearn.preprocessing import MinMaxScaler\n",
        "\n",
        "!pip install tsmoothie\n",
        "from tsmoothie.utils_func import sim_randomwalk\n",
        "from tsmoothie.smoother import *"
      ],
      "execution_count": 2,
      "outputs": [
        {
          "output_type": "stream",
          "text": [
            "Collecting tsmoothie\n",
            "  Downloading https://files.pythonhosted.org/packages/9b/cf/424996a4e937657945b4b67b2da51ff3275035b614f608c736e29946e227/tsmoothie-0.2.0-py3-none-any.whl\n",
            "Requirement already satisfied: scipy in /usr/local/lib/python3.6/dist-packages (from tsmoothie) (1.4.1)\n",
            "Requirement already satisfied: numpy in /usr/local/lib/python3.6/dist-packages (from tsmoothie) (1.18.5)\n",
            "Collecting simdkalman\n",
            "  Downloading https://files.pythonhosted.org/packages/d9/8a/6a4508231837fa2e5af4c6f0d6fa3d987a27f7aeb287b4e990c29b4e1815/simdkalman-1.0.1-py2.py3-none-any.whl\n",
            "Installing collected packages: simdkalman, tsmoothie\n",
            "Successfully installed simdkalman-1.0.1 tsmoothie-0.2.0\n"
          ],
          "name": "stdout"
        }
      ]
    },
    {
      "cell_type": "markdown",
      "metadata": {
        "id": "TZTcUpPicAUK"
      },
      "source": [
        "## Data Generating Function"
      ]
    },
    {
      "cell_type": "code",
      "metadata": {
        "id": "O8QaEFMyRIhL"
      },
      "source": [
        "def prepare_data(train_file, num_of_sensors, num_of_operational_setting, test_file,truth_file):\n",
        "    dependent_var = ['RUL']\n",
        "    index_columns_names =  [\"UnitNumber\",\"Cycle\"]\n",
        "    operational_settings_columns_names = [\"OperationalSetting\"+str(i) for i in range(1,num_of_operational_setting+1)]\n",
        "    sensor_measure_columns_names =[\"SensorMeasure\"+str(i) for i in range(1,num_of_sensors+1)]\n",
        "    input_file_column_names = index_columns_names + operational_settings_columns_names + sensor_measure_columns_names\n",
        "\n",
        "    df_train = pd.read_csv(train_file,delim_whitespace=True,names=input_file_column_names)\n",
        "\n",
        "    rul = pd.DataFrame(df_train.groupby('UnitNumber')['Cycle'].max()).reset_index()\n",
        "    rul.columns = ['UnitNumber', 'max']\n",
        "    df_train = df_train.merge(rul, on=['UnitNumber'], how='left')\n",
        "    df_train['RUL'] = df_train['max'] - df_train['Cycle']\n",
        "    df_train.drop('max', axis=1, inplace=True)\n",
        "\n",
        "    df_test = pd.read_csv(test_file, delim_whitespace=True, names=input_file_column_names)\n",
        "\n",
        "    y_true = pd.read_csv(truth_file, delim_whitespace=True,names=[\"RUL\"])\n",
        "    y_true[\"UnitNumber\"] = y_true.index + 1\n",
        "    \n",
        "    return df_train, df_test, y_true"
      ],
      "execution_count": 3,
      "outputs": []
    },
    {
      "cell_type": "code",
      "metadata": {
        "id": "HsYkfo7EX0Nn"
      },
      "source": [
        "# train_file = '/content/drive/My Drive/Dataset/PdM/train_FD001.txt'\n",
        "# num_of_sensors =  21\n",
        "# num_of_operational_setting = 3\n",
        "# test_file ='/content/drive/My Drive/Dataset/PdM/test_FD001.txt'\n",
        "# truth_file = '/content/drive/My Drive/Dataset/PdM/RUL_FD001.txt'"
      ],
      "execution_count": 4,
      "outputs": []
    },
    {
      "cell_type": "code",
      "metadata": {
        "id": "0zAdz2tzgCNg"
      },
      "source": [
        "train_file = '/content/drive/My Drive/Dataset/PdM/train_FD002.txt'\n",
        "num_of_sensors =  21\n",
        "num_of_operational_setting = 3\n",
        "test_file ='/content/drive/My Drive/Dataset/PdM/test_FD002.txt'\n",
        "truth_file = '/content/drive/My Drive/Dataset/PdM/RUL_FD002.txt'"
      ],
      "execution_count": 5,
      "outputs": []
    },
    {
      "cell_type": "code",
      "metadata": {
        "id": "EHTizFrtZJHD",
        "outputId": "580fc841-8836-4972-ed55-806ee59aec30",
        "colab": {
          "base_uri": "https://localhost:8080/"
        }
      },
      "source": [
        "# Generating the Dataset\n",
        "df_train, df_test, y_true = prepare_data(train_file, num_of_sensors, num_of_operational_setting, test_file,truth_file)\n",
        "df_train.shape, df_test.shape, y_true.shape"
      ],
      "execution_count": 6,
      "outputs": [
        {
          "output_type": "execute_result",
          "data": {
            "text/plain": [
              "((53759, 27), (33991, 26), (259, 2))"
            ]
          },
          "metadata": {
            "tags": []
          },
          "execution_count": 6
        }
      ]
    },
    {
      "cell_type": "code",
      "metadata": {
        "id": "Skqf4qENc__x",
        "outputId": "0f078443-cf47-4d2d-b9a2-88e573f62975",
        "colab": {
          "base_uri": "https://localhost:8080/",
          "height": 215
        }
      },
      "source": [
        "df_train.head()"
      ],
      "execution_count": 7,
      "outputs": [
        {
          "output_type": "execute_result",
          "data": {
            "text/html": [
              "<div>\n",
              "<style scoped>\n",
              "    .dataframe tbody tr th:only-of-type {\n",
              "        vertical-align: middle;\n",
              "    }\n",
              "\n",
              "    .dataframe tbody tr th {\n",
              "        vertical-align: top;\n",
              "    }\n",
              "\n",
              "    .dataframe thead th {\n",
              "        text-align: right;\n",
              "    }\n",
              "</style>\n",
              "<table border=\"1\" class=\"dataframe\">\n",
              "  <thead>\n",
              "    <tr style=\"text-align: right;\">\n",
              "      <th></th>\n",
              "      <th>UnitNumber</th>\n",
              "      <th>Cycle</th>\n",
              "      <th>OperationalSetting1</th>\n",
              "      <th>OperationalSetting2</th>\n",
              "      <th>OperationalSetting3</th>\n",
              "      <th>SensorMeasure1</th>\n",
              "      <th>SensorMeasure2</th>\n",
              "      <th>SensorMeasure3</th>\n",
              "      <th>SensorMeasure4</th>\n",
              "      <th>SensorMeasure5</th>\n",
              "      <th>SensorMeasure6</th>\n",
              "      <th>SensorMeasure7</th>\n",
              "      <th>SensorMeasure8</th>\n",
              "      <th>SensorMeasure9</th>\n",
              "      <th>SensorMeasure10</th>\n",
              "      <th>SensorMeasure11</th>\n",
              "      <th>SensorMeasure12</th>\n",
              "      <th>SensorMeasure13</th>\n",
              "      <th>SensorMeasure14</th>\n",
              "      <th>SensorMeasure15</th>\n",
              "      <th>SensorMeasure16</th>\n",
              "      <th>SensorMeasure17</th>\n",
              "      <th>SensorMeasure18</th>\n",
              "      <th>SensorMeasure19</th>\n",
              "      <th>SensorMeasure20</th>\n",
              "      <th>SensorMeasure21</th>\n",
              "      <th>RUL</th>\n",
              "    </tr>\n",
              "  </thead>\n",
              "  <tbody>\n",
              "    <tr>\n",
              "      <th>0</th>\n",
              "      <td>1</td>\n",
              "      <td>1</td>\n",
              "      <td>34.9983</td>\n",
              "      <td>0.8400</td>\n",
              "      <td>100.0</td>\n",
              "      <td>449.44</td>\n",
              "      <td>555.32</td>\n",
              "      <td>1358.61</td>\n",
              "      <td>1137.23</td>\n",
              "      <td>5.48</td>\n",
              "      <td>8.00</td>\n",
              "      <td>194.64</td>\n",
              "      <td>2222.65</td>\n",
              "      <td>8341.91</td>\n",
              "      <td>1.02</td>\n",
              "      <td>42.02</td>\n",
              "      <td>183.06</td>\n",
              "      <td>2387.72</td>\n",
              "      <td>8048.56</td>\n",
              "      <td>9.3461</td>\n",
              "      <td>0.02</td>\n",
              "      <td>334</td>\n",
              "      <td>2223</td>\n",
              "      <td>100.00</td>\n",
              "      <td>14.73</td>\n",
              "      <td>8.8071</td>\n",
              "      <td>148</td>\n",
              "    </tr>\n",
              "    <tr>\n",
              "      <th>1</th>\n",
              "      <td>1</td>\n",
              "      <td>2</td>\n",
              "      <td>41.9982</td>\n",
              "      <td>0.8408</td>\n",
              "      <td>100.0</td>\n",
              "      <td>445.00</td>\n",
              "      <td>549.90</td>\n",
              "      <td>1353.22</td>\n",
              "      <td>1125.78</td>\n",
              "      <td>3.91</td>\n",
              "      <td>5.71</td>\n",
              "      <td>138.51</td>\n",
              "      <td>2211.57</td>\n",
              "      <td>8303.96</td>\n",
              "      <td>1.02</td>\n",
              "      <td>42.20</td>\n",
              "      <td>130.42</td>\n",
              "      <td>2387.66</td>\n",
              "      <td>8072.30</td>\n",
              "      <td>9.3774</td>\n",
              "      <td>0.02</td>\n",
              "      <td>330</td>\n",
              "      <td>2212</td>\n",
              "      <td>100.00</td>\n",
              "      <td>10.41</td>\n",
              "      <td>6.2665</td>\n",
              "      <td>147</td>\n",
              "    </tr>\n",
              "    <tr>\n",
              "      <th>2</th>\n",
              "      <td>1</td>\n",
              "      <td>3</td>\n",
              "      <td>24.9988</td>\n",
              "      <td>0.6218</td>\n",
              "      <td>60.0</td>\n",
              "      <td>462.54</td>\n",
              "      <td>537.31</td>\n",
              "      <td>1256.76</td>\n",
              "      <td>1047.45</td>\n",
              "      <td>7.05</td>\n",
              "      <td>9.02</td>\n",
              "      <td>175.71</td>\n",
              "      <td>1915.11</td>\n",
              "      <td>8001.42</td>\n",
              "      <td>0.94</td>\n",
              "      <td>36.69</td>\n",
              "      <td>164.22</td>\n",
              "      <td>2028.03</td>\n",
              "      <td>7864.87</td>\n",
              "      <td>10.8941</td>\n",
              "      <td>0.02</td>\n",
              "      <td>309</td>\n",
              "      <td>1915</td>\n",
              "      <td>84.93</td>\n",
              "      <td>14.08</td>\n",
              "      <td>8.6723</td>\n",
              "      <td>146</td>\n",
              "    </tr>\n",
              "    <tr>\n",
              "      <th>3</th>\n",
              "      <td>1</td>\n",
              "      <td>4</td>\n",
              "      <td>42.0077</td>\n",
              "      <td>0.8416</td>\n",
              "      <td>100.0</td>\n",
              "      <td>445.00</td>\n",
              "      <td>549.51</td>\n",
              "      <td>1354.03</td>\n",
              "      <td>1126.38</td>\n",
              "      <td>3.91</td>\n",
              "      <td>5.71</td>\n",
              "      <td>138.46</td>\n",
              "      <td>2211.58</td>\n",
              "      <td>8303.96</td>\n",
              "      <td>1.02</td>\n",
              "      <td>41.96</td>\n",
              "      <td>130.72</td>\n",
              "      <td>2387.61</td>\n",
              "      <td>8068.66</td>\n",
              "      <td>9.3528</td>\n",
              "      <td>0.02</td>\n",
              "      <td>329</td>\n",
              "      <td>2212</td>\n",
              "      <td>100.00</td>\n",
              "      <td>10.59</td>\n",
              "      <td>6.4701</td>\n",
              "      <td>145</td>\n",
              "    </tr>\n",
              "    <tr>\n",
              "      <th>4</th>\n",
              "      <td>1</td>\n",
              "      <td>5</td>\n",
              "      <td>25.0005</td>\n",
              "      <td>0.6203</td>\n",
              "      <td>60.0</td>\n",
              "      <td>462.54</td>\n",
              "      <td>537.07</td>\n",
              "      <td>1257.71</td>\n",
              "      <td>1047.93</td>\n",
              "      <td>7.05</td>\n",
              "      <td>9.03</td>\n",
              "      <td>175.05</td>\n",
              "      <td>1915.10</td>\n",
              "      <td>7993.23</td>\n",
              "      <td>0.94</td>\n",
              "      <td>36.89</td>\n",
              "      <td>164.31</td>\n",
              "      <td>2028.00</td>\n",
              "      <td>7861.23</td>\n",
              "      <td>10.8963</td>\n",
              "      <td>0.02</td>\n",
              "      <td>309</td>\n",
              "      <td>1915</td>\n",
              "      <td>84.93</td>\n",
              "      <td>14.13</td>\n",
              "      <td>8.5286</td>\n",
              "      <td>144</td>\n",
              "    </tr>\n",
              "  </tbody>\n",
              "</table>\n",
              "</div>"
            ],
            "text/plain": [
              "   UnitNumber  Cycle  ...  SensorMeasure21  RUL\n",
              "0           1      1  ...           8.8071  148\n",
              "1           1      2  ...           6.2665  147\n",
              "2           1      3  ...           8.6723  146\n",
              "3           1      4  ...           6.4701  145\n",
              "4           1      5  ...           8.5286  144\n",
              "\n",
              "[5 rows x 27 columns]"
            ]
          },
          "metadata": {
            "tags": []
          },
          "execution_count": 7
        }
      ]
    },
    {
      "cell_type": "markdown",
      "metadata": {
        "id": "Wi87yTNDjO12"
      },
      "source": [
        "# Data Preprocessing"
      ]
    },
    {
      "cell_type": "markdown",
      "metadata": {
        "id": "6bSLBZErkWvu"
      },
      "source": [
        "## Normalising the Data"
      ]
    },
    {
      "cell_type": "code",
      "metadata": {
        "id": "Xk6yF94FSVD5",
        "outputId": "986824ff-2bd3-4352-dcf1-185a8cf37243",
        "colab": {
          "base_uri": "https://localhost:8080/"
        }
      },
      "source": [
        "features_columns = df_train.columns.drop(['RUL','UnitNumber','Cycle'])\n",
        "features_columns"
      ],
      "execution_count": 8,
      "outputs": [
        {
          "output_type": "execute_result",
          "data": {
            "text/plain": [
              "Index(['OperationalSetting1', 'OperationalSetting2', 'OperationalSetting3',\n",
              "       'SensorMeasure1', 'SensorMeasure2', 'SensorMeasure3', 'SensorMeasure4',\n",
              "       'SensorMeasure5', 'SensorMeasure6', 'SensorMeasure7', 'SensorMeasure8',\n",
              "       'SensorMeasure9', 'SensorMeasure10', 'SensorMeasure11',\n",
              "       'SensorMeasure12', 'SensorMeasure13', 'SensorMeasure14',\n",
              "       'SensorMeasure15', 'SensorMeasure16', 'SensorMeasure17',\n",
              "       'SensorMeasure18', 'SensorMeasure19', 'SensorMeasure20',\n",
              "       'SensorMeasure21'],\n",
              "      dtype='object')"
            ]
          },
          "metadata": {
            "tags": []
          },
          "execution_count": 8
        }
      ]
    },
    {
      "cell_type": "code",
      "metadata": {
        "id": "jFaAq40WkWFV"
      },
      "source": [
        "def normalize(df,features):\n",
        "  mms = MinMaxScaler(feature_range=(-1,1))\n",
        "  df[features] = mms.fit_transform(df[features])\n",
        "  return df\n"
      ],
      "execution_count": 9,
      "outputs": []
    },
    {
      "cell_type": "code",
      "metadata": {
        "id": "WhDlzOMumMZG",
        "outputId": "6c538078-f012-4cf6-c1fc-59068641098f",
        "colab": {
          "base_uri": "https://localhost:8080/",
          "height": 422
        }
      },
      "source": [
        "train_data = normalize(df_train, features_columns)\n",
        "test_data = normalize(df_test, features_columns)\n",
        "\n",
        "train_data"
      ],
      "execution_count": 10,
      "outputs": [
        {
          "output_type": "execute_result",
          "data": {
            "text/html": [
              "<div>\n",
              "<style scoped>\n",
              "    .dataframe tbody tr th:only-of-type {\n",
              "        vertical-align: middle;\n",
              "    }\n",
              "\n",
              "    .dataframe tbody tr th {\n",
              "        vertical-align: top;\n",
              "    }\n",
              "\n",
              "    .dataframe thead th {\n",
              "        text-align: right;\n",
              "    }\n",
              "</style>\n",
              "<table border=\"1\" class=\"dataframe\">\n",
              "  <thead>\n",
              "    <tr style=\"text-align: right;\">\n",
              "      <th></th>\n",
              "      <th>UnitNumber</th>\n",
              "      <th>Cycle</th>\n",
              "      <th>OperationalSetting1</th>\n",
              "      <th>OperationalSetting2</th>\n",
              "      <th>OperationalSetting3</th>\n",
              "      <th>SensorMeasure1</th>\n",
              "      <th>SensorMeasure2</th>\n",
              "      <th>SensorMeasure3</th>\n",
              "      <th>SensorMeasure4</th>\n",
              "      <th>SensorMeasure5</th>\n",
              "      <th>SensorMeasure6</th>\n",
              "      <th>SensorMeasure7</th>\n",
              "      <th>SensorMeasure8</th>\n",
              "      <th>SensorMeasure9</th>\n",
              "      <th>SensorMeasure10</th>\n",
              "      <th>SensorMeasure11</th>\n",
              "      <th>SensorMeasure12</th>\n",
              "      <th>SensorMeasure13</th>\n",
              "      <th>SensorMeasure14</th>\n",
              "      <th>SensorMeasure15</th>\n",
              "      <th>SensorMeasure16</th>\n",
              "      <th>SensorMeasure17</th>\n",
              "      <th>SensorMeasure18</th>\n",
              "      <th>SensorMeasure19</th>\n",
              "      <th>SensorMeasure20</th>\n",
              "      <th>SensorMeasure21</th>\n",
              "      <th>RUL</th>\n",
              "    </tr>\n",
              "  </thead>\n",
              "  <tbody>\n",
              "    <tr>\n",
              "      <th>0</th>\n",
              "      <td>1</td>\n",
              "      <td>1</td>\n",
              "      <td>0.666268</td>\n",
              "      <td>0.995249</td>\n",
              "      <td>1.0</td>\n",
              "      <td>-0.879462</td>\n",
              "      <td>-0.636847</td>\n",
              "      <td>-0.377597</td>\n",
              "      <td>-0.453810</td>\n",
              "      <td>-0.706816</td>\n",
              "      <td>-0.711950</td>\n",
              "      <td>-0.723927</td>\n",
              "      <td>0.300114</td>\n",
              "      <td>-0.420616</td>\n",
              "      <td>-0.513514</td>\n",
              "      <td>-0.057003</td>\n",
              "      <td>-0.726367</td>\n",
              "      <td>0.984788</td>\n",
              "      <td>-0.046984</td>\n",
              "      <td>-0.260105</td>\n",
              "      <td>-1.0</td>\n",
              "      <td>-0.354167</td>\n",
              "      <td>0.302326</td>\n",
              "      <td>1.0</td>\n",
              "      <td>-0.687929</td>\n",
              "      <td>-0.681836</td>\n",
              "      <td>148</td>\n",
              "    </tr>\n",
              "    <tr>\n",
              "      <th>1</th>\n",
              "      <td>1</td>\n",
              "      <td>2</td>\n",
              "      <td>0.999533</td>\n",
              "      <td>0.997150</td>\n",
              "      <td>1.0</td>\n",
              "      <td>-1.000000</td>\n",
              "      <td>-0.736306</td>\n",
              "      <td>-0.406799</td>\n",
              "      <td>-0.508930</td>\n",
              "      <td>-1.000000</td>\n",
              "      <td>-1.000000</td>\n",
              "      <td>-0.991838</td>\n",
              "      <td>0.253325</td>\n",
              "      <td>-0.482319</td>\n",
              "      <td>-0.513514</td>\n",
              "      <td>-0.027687</td>\n",
              "      <td>-0.993405</td>\n",
              "      <td>0.984457</td>\n",
              "      <td>0.066026</td>\n",
              "      <td>-0.237185</td>\n",
              "      <td>-1.0</td>\n",
              "      <td>-0.437500</td>\n",
              "      <td>0.255814</td>\n",
              "      <td>1.0</td>\n",
              "      <td>-0.984225</td>\n",
              "      <td>-0.970875</td>\n",
              "      <td>147</td>\n",
              "    </tr>\n",
              "    <tr>\n",
              "      <th>2</th>\n",
              "      <td>1</td>\n",
              "      <td>3</td>\n",
              "      <td>0.190192</td>\n",
              "      <td>0.476960</td>\n",
              "      <td>-1.0</td>\n",
              "      <td>-0.523822</td>\n",
              "      <td>-0.967336</td>\n",
              "      <td>-0.929405</td>\n",
              "      <td>-0.886006</td>\n",
              "      <td>-0.413632</td>\n",
              "      <td>-0.583648</td>\n",
              "      <td>-0.814281</td>\n",
              "      <td>-0.998564</td>\n",
              "      <td>-0.974213</td>\n",
              "      <td>-0.945946</td>\n",
              "      <td>-0.925081</td>\n",
              "      <td>-0.821940</td>\n",
              "      <td>-0.997685</td>\n",
              "      <td>-0.921407</td>\n",
              "      <td>0.873462</td>\n",
              "      <td>-1.0</td>\n",
              "      <td>-0.875000</td>\n",
              "      <td>-1.000000</td>\n",
              "      <td>-1.0</td>\n",
              "      <td>-0.732510</td>\n",
              "      <td>-0.697172</td>\n",
              "      <td>146</td>\n",
              "    </tr>\n",
              "    <tr>\n",
              "      <th>3</th>\n",
              "      <td>1</td>\n",
              "      <td>4</td>\n",
              "      <td>0.999986</td>\n",
              "      <td>0.999050</td>\n",
              "      <td>1.0</td>\n",
              "      <td>-1.000000</td>\n",
              "      <td>-0.743463</td>\n",
              "      <td>-0.402411</td>\n",
              "      <td>-0.506041</td>\n",
              "      <td>-1.000000</td>\n",
              "      <td>-1.000000</td>\n",
              "      <td>-0.992077</td>\n",
              "      <td>0.253368</td>\n",
              "      <td>-0.482319</td>\n",
              "      <td>-0.513514</td>\n",
              "      <td>-0.066775</td>\n",
              "      <td>-0.991883</td>\n",
              "      <td>0.984182</td>\n",
              "      <td>0.048698</td>\n",
              "      <td>-0.255199</td>\n",
              "      <td>-1.0</td>\n",
              "      <td>-0.458333</td>\n",
              "      <td>0.255814</td>\n",
              "      <td>1.0</td>\n",
              "      <td>-0.971879</td>\n",
              "      <td>-0.947712</td>\n",
              "      <td>145</td>\n",
              "    </tr>\n",
              "    <tr>\n",
              "      <th>4</th>\n",
              "      <td>1</td>\n",
              "      <td>5</td>\n",
              "      <td>0.190273</td>\n",
              "      <td>0.473397</td>\n",
              "      <td>-1.0</td>\n",
              "      <td>-0.523822</td>\n",
              "      <td>-0.971741</td>\n",
              "      <td>-0.924258</td>\n",
              "      <td>-0.883695</td>\n",
              "      <td>-0.413632</td>\n",
              "      <td>-0.582390</td>\n",
              "      <td>-0.817431</td>\n",
              "      <td>-0.998606</td>\n",
              "      <td>-0.987529</td>\n",
              "      <td>-0.945946</td>\n",
              "      <td>-0.892508</td>\n",
              "      <td>-0.821484</td>\n",
              "      <td>-0.997850</td>\n",
              "      <td>-0.938735</td>\n",
              "      <td>0.875073</td>\n",
              "      <td>-1.0</td>\n",
              "      <td>-0.875000</td>\n",
              "      <td>-1.000000</td>\n",
              "      <td>-1.0</td>\n",
              "      <td>-0.729081</td>\n",
              "      <td>-0.713520</td>\n",
              "      <td>144</td>\n",
              "    </tr>\n",
              "    <tr>\n",
              "      <th>...</th>\n",
              "      <td>...</td>\n",
              "      <td>...</td>\n",
              "      <td>...</td>\n",
              "      <td>...</td>\n",
              "      <td>...</td>\n",
              "      <td>...</td>\n",
              "      <td>...</td>\n",
              "      <td>...</td>\n",
              "      <td>...</td>\n",
              "      <td>...</td>\n",
              "      <td>...</td>\n",
              "      <td>...</td>\n",
              "      <td>...</td>\n",
              "      <td>...</td>\n",
              "      <td>...</td>\n",
              "      <td>...</td>\n",
              "      <td>...</td>\n",
              "      <td>...</td>\n",
              "      <td>...</td>\n",
              "      <td>...</td>\n",
              "      <td>...</td>\n",
              "      <td>...</td>\n",
              "      <td>...</td>\n",
              "      <td>...</td>\n",
              "      <td>...</td>\n",
              "      <td>...</td>\n",
              "      <td>...</td>\n",
              "    </tr>\n",
              "    <tr>\n",
              "      <th>53754</th>\n",
              "      <td>260</td>\n",
              "      <td>312</td>\n",
              "      <td>-0.047624</td>\n",
              "      <td>0.662708</td>\n",
              "      <td>1.0</td>\n",
              "      <td>0.253970</td>\n",
              "      <td>0.344344</td>\n",
              "      <td>0.364594</td>\n",
              "      <td>0.182978</td>\n",
              "      <td>0.015873</td>\n",
              "      <td>0.000000</td>\n",
              "      <td>-0.058756</td>\n",
              "      <td>0.731979</td>\n",
              "      <td>0.409170</td>\n",
              "      <td>-0.243243</td>\n",
              "      <td>0.382736</td>\n",
              "      <td>-0.061864</td>\n",
              "      <td>0.991953</td>\n",
              "      <td>0.529395</td>\n",
              "      <td>-0.291301</td>\n",
              "      <td>1.0</td>\n",
              "      <td>0.375000</td>\n",
              "      <td>0.729387</td>\n",
              "      <td>1.0</td>\n",
              "      <td>-0.027435</td>\n",
              "      <td>-0.032014</td>\n",
              "      <td>4</td>\n",
              "    </tr>\n",
              "    <tr>\n",
              "      <th>53755</th>\n",
              "      <td>260</td>\n",
              "      <td>313</td>\n",
              "      <td>-0.523795</td>\n",
              "      <td>-0.403800</td>\n",
              "      <td>1.0</td>\n",
              "      <td>0.195873</td>\n",
              "      <td>0.289660</td>\n",
              "      <td>0.466017</td>\n",
              "      <td>0.445867</td>\n",
              "      <td>0.234360</td>\n",
              "      <td>0.231447</td>\n",
              "      <td>0.220276</td>\n",
              "      <td>0.707698</td>\n",
              "      <td>0.512560</td>\n",
              "      <td>0.783784</td>\n",
              "      <td>0.604235</td>\n",
              "      <td>0.228155</td>\n",
              "      <td>0.988646</td>\n",
              "      <td>0.889846</td>\n",
              "      <td>-0.690319</td>\n",
              "      <td>1.0</td>\n",
              "      <td>0.479167</td>\n",
              "      <td>0.708245</td>\n",
              "      <td>1.0</td>\n",
              "      <td>0.229081</td>\n",
              "      <td>0.244044</td>\n",
              "      <td>3</td>\n",
              "    </tr>\n",
              "    <tr>\n",
              "      <th>53756</th>\n",
              "      <td>260</td>\n",
              "      <td>314</td>\n",
              "      <td>0.190445</td>\n",
              "      <td>0.472684</td>\n",
              "      <td>-1.0</td>\n",
              "      <td>-0.523822</td>\n",
              "      <td>-0.964217</td>\n",
              "      <td>-0.823866</td>\n",
              "      <td>-0.835604</td>\n",
              "      <td>-0.413632</td>\n",
              "      <td>-0.581132</td>\n",
              "      <td>-0.817145</td>\n",
              "      <td>-0.989021</td>\n",
              "      <td>-0.790635</td>\n",
              "      <td>-0.945946</td>\n",
              "      <td>-0.851792</td>\n",
              "      <td>-0.824375</td>\n",
              "      <td>-0.985008</td>\n",
              "      <td>-0.415005</td>\n",
              "      <td>0.999121</td>\n",
              "      <td>-1.0</td>\n",
              "      <td>-0.854167</td>\n",
              "      <td>-1.000000</td>\n",
              "      <td>-1.0</td>\n",
              "      <td>-0.724966</td>\n",
              "      <td>-0.711051</td>\n",
              "      <td>2</td>\n",
              "    </tr>\n",
              "    <tr>\n",
              "      <th>53757</th>\n",
              "      <td>260</td>\n",
              "      <td>315</td>\n",
              "      <td>0.190407</td>\n",
              "      <td>0.477435</td>\n",
              "      <td>-1.0</td>\n",
              "      <td>-0.523822</td>\n",
              "      <td>-0.957611</td>\n",
              "      <td>-0.841690</td>\n",
              "      <td>-0.795263</td>\n",
              "      <td>-0.413632</td>\n",
              "      <td>-0.581132</td>\n",
              "      <td>-0.818577</td>\n",
              "      <td>-0.989063</td>\n",
              "      <td>-0.793399</td>\n",
              "      <td>-0.945946</td>\n",
              "      <td>-0.822476</td>\n",
              "      <td>-0.821179</td>\n",
              "      <td>-0.984898</td>\n",
              "      <td>-0.409197</td>\n",
              "      <td>0.990334</td>\n",
              "      <td>-1.0</td>\n",
              "      <td>-0.833333</td>\n",
              "      <td>-1.000000</td>\n",
              "      <td>-1.0</td>\n",
              "      <td>-0.734568</td>\n",
              "      <td>-0.731234</td>\n",
              "      <td>1</td>\n",
              "    </tr>\n",
              "    <tr>\n",
              "      <th>53758</th>\n",
              "      <td>260</td>\n",
              "      <td>316</td>\n",
              "      <td>0.666521</td>\n",
              "      <td>0.995249</td>\n",
              "      <td>1.0</td>\n",
              "      <td>-0.879462</td>\n",
              "      <td>-0.612625</td>\n",
              "      <td>-0.290912</td>\n",
              "      <td>-0.413903</td>\n",
              "      <td>-0.706816</td>\n",
              "      <td>-0.710692</td>\n",
              "      <td>-0.725407</td>\n",
              "      <td>0.310544</td>\n",
              "      <td>-0.198634</td>\n",
              "      <td>-0.513514</td>\n",
              "      <td>0.021173</td>\n",
              "      <td>-0.726214</td>\n",
              "      <td>0.999449</td>\n",
              "      <td>0.604180</td>\n",
              "      <td>-0.220782</td>\n",
              "      <td>-1.0</td>\n",
              "      <td>-0.270833</td>\n",
              "      <td>0.302326</td>\n",
              "      <td>1.0</td>\n",
              "      <td>-0.686557</td>\n",
              "      <td>-0.677569</td>\n",
              "      <td>0</td>\n",
              "    </tr>\n",
              "  </tbody>\n",
              "</table>\n",
              "<p>53759 rows × 27 columns</p>\n",
              "</div>"
            ],
            "text/plain": [
              "       UnitNumber  Cycle  ...  SensorMeasure21  RUL\n",
              "0               1      1  ...        -0.681836  148\n",
              "1               1      2  ...        -0.970875  147\n",
              "2               1      3  ...        -0.697172  146\n",
              "3               1      4  ...        -0.947712  145\n",
              "4               1      5  ...        -0.713520  144\n",
              "...           ...    ...  ...              ...  ...\n",
              "53754         260    312  ...        -0.032014    4\n",
              "53755         260    313  ...         0.244044    3\n",
              "53756         260    314  ...        -0.711051    2\n",
              "53757         260    315  ...        -0.731234    1\n",
              "53758         260    316  ...        -0.677569    0\n",
              "\n",
              "[53759 rows x 27 columns]"
            ]
          },
          "metadata": {
            "tags": []
          },
          "execution_count": 10
        }
      ]
    },
    {
      "cell_type": "markdown",
      "metadata": {
        "id": "FTQFM2y4Sp9t"
      },
      "source": [
        "## Smoothening the Data"
      ]
    },
    {
      "cell_type": "code",
      "metadata": {
        "id": "9R-BKKcNTHRQ"
      },
      "source": [
        "def smoothening(df,features,window):\n",
        "  df_smoothed = df.groupby('UnitNumber')[features].rolling(window = window).mean()\n",
        "  df_smoothed = df_smoothed.reset_index()\n",
        "  df_smoothed.dropna(inplace = True)\n",
        "  df_smoothed.drop(['level_1'], axis = 1, inplace = True)\n",
        "  return df_smoothed"
      ],
      "execution_count": 11,
      "outputs": []
    },
    {
      "cell_type": "code",
      "metadata": {
        "id": "r3jYsDe4TtVO",
        "outputId": "e7b17bf5-b7d6-4530-f22a-8bdea57458a2",
        "colab": {
          "base_uri": "https://localhost:8080/",
          "height": 422
        }
      },
      "source": [
        "window = 20\n",
        "train_data = smoothening(train_data,features_columns,window)\n",
        "train_data"
      ],
      "execution_count": 12,
      "outputs": [
        {
          "output_type": "execute_result",
          "data": {
            "text/html": [
              "<div>\n",
              "<style scoped>\n",
              "    .dataframe tbody tr th:only-of-type {\n",
              "        vertical-align: middle;\n",
              "    }\n",
              "\n",
              "    .dataframe tbody tr th {\n",
              "        vertical-align: top;\n",
              "    }\n",
              "\n",
              "    .dataframe thead th {\n",
              "        text-align: right;\n",
              "    }\n",
              "</style>\n",
              "<table border=\"1\" class=\"dataframe\">\n",
              "  <thead>\n",
              "    <tr style=\"text-align: right;\">\n",
              "      <th></th>\n",
              "      <th>UnitNumber</th>\n",
              "      <th>OperationalSetting1</th>\n",
              "      <th>OperationalSetting2</th>\n",
              "      <th>OperationalSetting3</th>\n",
              "      <th>SensorMeasure1</th>\n",
              "      <th>SensorMeasure2</th>\n",
              "      <th>SensorMeasure3</th>\n",
              "      <th>SensorMeasure4</th>\n",
              "      <th>SensorMeasure5</th>\n",
              "      <th>SensorMeasure6</th>\n",
              "      <th>SensorMeasure7</th>\n",
              "      <th>SensorMeasure8</th>\n",
              "      <th>SensorMeasure9</th>\n",
              "      <th>SensorMeasure10</th>\n",
              "      <th>SensorMeasure11</th>\n",
              "      <th>SensorMeasure12</th>\n",
              "      <th>SensorMeasure13</th>\n",
              "      <th>SensorMeasure14</th>\n",
              "      <th>SensorMeasure15</th>\n",
              "      <th>SensorMeasure16</th>\n",
              "      <th>SensorMeasure17</th>\n",
              "      <th>SensorMeasure18</th>\n",
              "      <th>SensorMeasure19</th>\n",
              "      <th>SensorMeasure20</th>\n",
              "      <th>SensorMeasure21</th>\n",
              "    </tr>\n",
              "  </thead>\n",
              "  <tbody>\n",
              "    <tr>\n",
              "      <th>19</th>\n",
              "      <td>1</td>\n",
              "      <td>0.454584</td>\n",
              "      <td>0.672838</td>\n",
              "      <td>0.6</td>\n",
              "      <td>-0.538795</td>\n",
              "      <td>-0.477181</td>\n",
              "      <td>-0.293834</td>\n",
              "      <td>-0.371668</td>\n",
              "      <td>-0.524650</td>\n",
              "      <td>-0.562013</td>\n",
              "      <td>-0.616040</td>\n",
              "      <td>0.141119</td>\n",
              "      <td>-0.375928</td>\n",
              "      <td>-0.410811</td>\n",
              "      <td>-0.095765</td>\n",
              "      <td>-0.617991</td>\n",
              "      <td>0.588624</td>\n",
              "      <td>-0.144607</td>\n",
              "      <td>-0.100033</td>\n",
              "      <td>-0.8</td>\n",
              "      <td>-0.301042</td>\n",
              "      <td>0.142495</td>\n",
              "      <td>0.6</td>\n",
              "      <td>-0.578258</td>\n",
              "      <td>-0.565720</td>\n",
              "    </tr>\n",
              "    <tr>\n",
              "      <th>20</th>\n",
              "      <td>1</td>\n",
              "      <td>0.471259</td>\n",
              "      <td>0.672874</td>\n",
              "      <td>0.6</td>\n",
              "      <td>-0.544822</td>\n",
              "      <td>-0.482356</td>\n",
              "      <td>-0.296088</td>\n",
              "      <td>-0.373345</td>\n",
              "      <td>-0.539309</td>\n",
              "      <td>-0.576352</td>\n",
              "      <td>-0.629574</td>\n",
              "      <td>0.138784</td>\n",
              "      <td>-0.379055</td>\n",
              "      <td>-0.410811</td>\n",
              "      <td>-0.093648</td>\n",
              "      <td>-0.631455</td>\n",
              "      <td>0.588596</td>\n",
              "      <td>-0.139130</td>\n",
              "      <td>-0.098704</td>\n",
              "      <td>-0.8</td>\n",
              "      <td>-0.304167</td>\n",
              "      <td>0.140169</td>\n",
              "      <td>0.6</td>\n",
              "      <td>-0.592558</td>\n",
              "      <td>-0.579423</td>\n",
              "    </tr>\n",
              "    <tr>\n",
              "      <th>21</th>\n",
              "      <td>1</td>\n",
              "      <td>0.471273</td>\n",
              "      <td>0.673005</td>\n",
              "      <td>0.6</td>\n",
              "      <td>-0.544822</td>\n",
              "      <td>-0.482650</td>\n",
              "      <td>-0.296221</td>\n",
              "      <td>-0.372467</td>\n",
              "      <td>-0.539309</td>\n",
              "      <td>-0.576352</td>\n",
              "      <td>-0.629507</td>\n",
              "      <td>0.138786</td>\n",
              "      <td>-0.379361</td>\n",
              "      <td>-0.410811</td>\n",
              "      <td>-0.095195</td>\n",
              "      <td>-0.631361</td>\n",
              "      <td>0.588613</td>\n",
              "      <td>-0.139694</td>\n",
              "      <td>-0.099389</td>\n",
              "      <td>-0.8</td>\n",
              "      <td>-0.304167</td>\n",
              "      <td>0.140169</td>\n",
              "      <td>0.6</td>\n",
              "      <td>-0.591975</td>\n",
              "      <td>-0.578527</td>\n",
              "    </tr>\n",
              "    <tr>\n",
              "      <th>22</th>\n",
              "      <td>1</td>\n",
              "      <td>0.511741</td>\n",
              "      <td>0.699109</td>\n",
              "      <td>0.7</td>\n",
              "      <td>-0.568630</td>\n",
              "      <td>-0.471520</td>\n",
              "      <td>-0.271648</td>\n",
              "      <td>-0.353488</td>\n",
              "      <td>-0.568627</td>\n",
              "      <td>-0.597170</td>\n",
              "      <td>-0.638375</td>\n",
              "      <td>0.201385</td>\n",
              "      <td>-0.355065</td>\n",
              "      <td>-0.389189</td>\n",
              "      <td>-0.052199</td>\n",
              "      <td>-0.639919</td>\n",
              "      <td>0.687748</td>\n",
              "      <td>-0.090858</td>\n",
              "      <td>-0.156298</td>\n",
              "      <td>-0.8</td>\n",
              "      <td>-0.281250</td>\n",
              "      <td>0.202960</td>\n",
              "      <td>0.7</td>\n",
              "      <td>-0.604047</td>\n",
              "      <td>-0.591277</td>\n",
              "    </tr>\n",
              "    <tr>\n",
              "      <th>23</th>\n",
              "      <td>1</td>\n",
              "      <td>0.511726</td>\n",
              "      <td>0.698919</td>\n",
              "      <td>0.7</td>\n",
              "      <td>-0.568630</td>\n",
              "      <td>-0.470906</td>\n",
              "      <td>-0.271976</td>\n",
              "      <td>-0.353117</td>\n",
              "      <td>-0.568627</td>\n",
              "      <td>-0.597107</td>\n",
              "      <td>-0.638435</td>\n",
              "      <td>0.201387</td>\n",
              "      <td>-0.354676</td>\n",
              "      <td>-0.389189</td>\n",
              "      <td>-0.051629</td>\n",
              "      <td>-0.640058</td>\n",
              "      <td>0.687756</td>\n",
              "      <td>-0.090651</td>\n",
              "      <td>-0.155276</td>\n",
              "      <td>-0.8</td>\n",
              "      <td>-0.278125</td>\n",
              "      <td>0.202960</td>\n",
              "      <td>0.7</td>\n",
              "      <td>-0.604424</td>\n",
              "      <td>-0.591905</td>\n",
              "    </tr>\n",
              "    <tr>\n",
              "      <th>...</th>\n",
              "      <td>...</td>\n",
              "      <td>...</td>\n",
              "      <td>...</td>\n",
              "      <td>...</td>\n",
              "      <td>...</td>\n",
              "      <td>...</td>\n",
              "      <td>...</td>\n",
              "      <td>...</td>\n",
              "      <td>...</td>\n",
              "      <td>...</td>\n",
              "      <td>...</td>\n",
              "      <td>...</td>\n",
              "      <td>...</td>\n",
              "      <td>...</td>\n",
              "      <td>...</td>\n",
              "      <td>...</td>\n",
              "      <td>...</td>\n",
              "      <td>...</td>\n",
              "      <td>...</td>\n",
              "      <td>...</td>\n",
              "      <td>...</td>\n",
              "      <td>...</td>\n",
              "      <td>...</td>\n",
              "      <td>...</td>\n",
              "      <td>...</td>\n",
              "    </tr>\n",
              "    <tr>\n",
              "      <th>53754</th>\n",
              "      <td>260</td>\n",
              "      <td>-0.059542</td>\n",
              "      <td>0.138836</td>\n",
              "      <td>0.8</td>\n",
              "      <td>0.024026</td>\n",
              "      <td>0.079906</td>\n",
              "      <td>0.216091</td>\n",
              "      <td>0.150205</td>\n",
              "      <td>-0.000093</td>\n",
              "      <td>-0.020314</td>\n",
              "      <td>-0.060226</td>\n",
              "      <td>0.498419</td>\n",
              "      <td>0.236421</td>\n",
              "      <td>0.094595</td>\n",
              "      <td>0.327850</td>\n",
              "      <td>-0.060335</td>\n",
              "      <td>0.793234</td>\n",
              "      <td>0.543759</td>\n",
              "      <td>-0.364722</td>\n",
              "      <td>0.2</td>\n",
              "      <td>0.204167</td>\n",
              "      <td>0.495772</td>\n",
              "      <td>0.8</td>\n",
              "      <td>-0.048731</td>\n",
              "      <td>-0.040992</td>\n",
              "    </tr>\n",
              "    <tr>\n",
              "      <th>53755</th>\n",
              "      <td>260</td>\n",
              "      <td>-0.083341</td>\n",
              "      <td>0.085511</td>\n",
              "      <td>0.8</td>\n",
              "      <td>0.021121</td>\n",
              "      <td>0.078273</td>\n",
              "      <td>0.222159</td>\n",
              "      <td>0.163597</td>\n",
              "      <td>0.010831</td>\n",
              "      <td>-0.008742</td>\n",
              "      <td>-0.046404</td>\n",
              "      <td>0.497268</td>\n",
              "      <td>0.244697</td>\n",
              "      <td>0.145946</td>\n",
              "      <td>0.338844</td>\n",
              "      <td>-0.045930</td>\n",
              "      <td>0.793135</td>\n",
              "      <td>0.568380</td>\n",
              "      <td>-0.385369</td>\n",
              "      <td>0.2</td>\n",
              "      <td>0.210417</td>\n",
              "      <td>0.494715</td>\n",
              "      <td>0.8</td>\n",
              "      <td>-0.036111</td>\n",
              "      <td>-0.027538</td>\n",
              "    </tr>\n",
              "    <tr>\n",
              "      <th>53756</th>\n",
              "      <td>260</td>\n",
              "      <td>-0.123808</td>\n",
              "      <td>0.059347</td>\n",
              "      <td>0.7</td>\n",
              "      <td>0.044930</td>\n",
              "      <td>0.066832</td>\n",
              "      <td>0.197589</td>\n",
              "      <td>0.143501</td>\n",
              "      <td>0.040149</td>\n",
              "      <td>0.012138</td>\n",
              "      <td>-0.037624</td>\n",
              "      <td>0.434768</td>\n",
              "      <td>0.219591</td>\n",
              "      <td>0.121622</td>\n",
              "      <td>0.297231</td>\n",
              "      <td>-0.037413</td>\n",
              "      <td>0.694149</td>\n",
              "      <td>0.522435</td>\n",
              "      <td>-0.323371</td>\n",
              "      <td>0.2</td>\n",
              "      <td>0.186458</td>\n",
              "      <td>0.431924</td>\n",
              "      <td>0.7</td>\n",
              "      <td>-0.023697</td>\n",
              "      <td>-0.015121</td>\n",
              "    </tr>\n",
              "    <tr>\n",
              "      <th>53757</th>\n",
              "      <td>260</td>\n",
              "      <td>-0.111907</td>\n",
              "      <td>0.050083</td>\n",
              "      <td>0.6</td>\n",
              "      <td>0.006040</td>\n",
              "      <td>0.002321</td>\n",
              "      <td>0.137231</td>\n",
              "      <td>0.096604</td>\n",
              "      <td>0.018674</td>\n",
              "      <td>-0.016918</td>\n",
              "      <td>-0.075610</td>\n",
              "      <td>0.348773</td>\n",
              "      <td>0.162099</td>\n",
              "      <td>0.086486</td>\n",
              "      <td>0.236482</td>\n",
              "      <td>-0.075417</td>\n",
              "      <td>0.595370</td>\n",
              "      <td>0.481985</td>\n",
              "      <td>-0.257594</td>\n",
              "      <td>0.1</td>\n",
              "      <td>0.127083</td>\n",
              "      <td>0.345455</td>\n",
              "      <td>0.6</td>\n",
              "      <td>-0.059259</td>\n",
              "      <td>-0.050457</td>\n",
              "    </tr>\n",
              "    <tr>\n",
              "      <th>53758</th>\n",
              "      <td>260</td>\n",
              "      <td>-0.128575</td>\n",
              "      <td>0.049976</td>\n",
              "      <td>0.6</td>\n",
              "      <td>0.012067</td>\n",
              "      <td>0.008129</td>\n",
              "      <td>0.139401</td>\n",
              "      <td>0.098712</td>\n",
              "      <td>0.033333</td>\n",
              "      <td>-0.002516</td>\n",
              "      <td>-0.062279</td>\n",
              "      <td>0.351250</td>\n",
              "      <td>0.167029</td>\n",
              "      <td>0.083784</td>\n",
              "      <td>0.236971</td>\n",
              "      <td>-0.062202</td>\n",
              "      <td>0.595596</td>\n",
              "      <td>0.485050</td>\n",
              "      <td>-0.257279</td>\n",
              "      <td>0.1</td>\n",
              "      <td>0.131250</td>\n",
              "      <td>0.347780</td>\n",
              "      <td>0.6</td>\n",
              "      <td>-0.045027</td>\n",
              "      <td>-0.036411</td>\n",
              "    </tr>\n",
              "  </tbody>\n",
              "</table>\n",
              "<p>48819 rows × 25 columns</p>\n",
              "</div>"
            ],
            "text/plain": [
              "       UnitNumber  OperationalSetting1  ...  SensorMeasure20  SensorMeasure21\n",
              "19              1             0.454584  ...        -0.578258        -0.565720\n",
              "20              1             0.471259  ...        -0.592558        -0.579423\n",
              "21              1             0.471273  ...        -0.591975        -0.578527\n",
              "22              1             0.511741  ...        -0.604047        -0.591277\n",
              "23              1             0.511726  ...        -0.604424        -0.591905\n",
              "...           ...                  ...  ...              ...              ...\n",
              "53754         260            -0.059542  ...        -0.048731        -0.040992\n",
              "53755         260            -0.083341  ...        -0.036111        -0.027538\n",
              "53756         260            -0.123808  ...        -0.023697        -0.015121\n",
              "53757         260            -0.111907  ...        -0.059259        -0.050457\n",
              "53758         260            -0.128575  ...        -0.045027        -0.036411\n",
              "\n",
              "[48819 rows x 25 columns]"
            ]
          },
          "metadata": {
            "tags": []
          },
          "execution_count": 12
        }
      ]
    },
    {
      "cell_type": "code",
      "metadata": {
        "id": "aZC72IEoviTV",
        "outputId": "214b271f-d348-4480-d6fc-1664d859a141",
        "colab": {
          "base_uri": "https://localhost:8080/",
          "height": 422
        }
      },
      "source": [
        "train_data.head(191)"
      ],
      "execution_count": 13,
      "outputs": [
        {
          "output_type": "execute_result",
          "data": {
            "text/html": [
              "<div>\n",
              "<style scoped>\n",
              "    .dataframe tbody tr th:only-of-type {\n",
              "        vertical-align: middle;\n",
              "    }\n",
              "\n",
              "    .dataframe tbody tr th {\n",
              "        vertical-align: top;\n",
              "    }\n",
              "\n",
              "    .dataframe thead th {\n",
              "        text-align: right;\n",
              "    }\n",
              "</style>\n",
              "<table border=\"1\" class=\"dataframe\">\n",
              "  <thead>\n",
              "    <tr style=\"text-align: right;\">\n",
              "      <th></th>\n",
              "      <th>UnitNumber</th>\n",
              "      <th>OperationalSetting1</th>\n",
              "      <th>OperationalSetting2</th>\n",
              "      <th>OperationalSetting3</th>\n",
              "      <th>SensorMeasure1</th>\n",
              "      <th>SensorMeasure2</th>\n",
              "      <th>SensorMeasure3</th>\n",
              "      <th>SensorMeasure4</th>\n",
              "      <th>SensorMeasure5</th>\n",
              "      <th>SensorMeasure6</th>\n",
              "      <th>SensorMeasure7</th>\n",
              "      <th>SensorMeasure8</th>\n",
              "      <th>SensorMeasure9</th>\n",
              "      <th>SensorMeasure10</th>\n",
              "      <th>SensorMeasure11</th>\n",
              "      <th>SensorMeasure12</th>\n",
              "      <th>SensorMeasure13</th>\n",
              "      <th>SensorMeasure14</th>\n",
              "      <th>SensorMeasure15</th>\n",
              "      <th>SensorMeasure16</th>\n",
              "      <th>SensorMeasure17</th>\n",
              "      <th>SensorMeasure18</th>\n",
              "      <th>SensorMeasure19</th>\n",
              "      <th>SensorMeasure20</th>\n",
              "      <th>SensorMeasure21</th>\n",
              "    </tr>\n",
              "  </thead>\n",
              "  <tbody>\n",
              "    <tr>\n",
              "      <th>19</th>\n",
              "      <td>1</td>\n",
              "      <td>0.454584</td>\n",
              "      <td>0.672838</td>\n",
              "      <td>0.6</td>\n",
              "      <td>-0.538795</td>\n",
              "      <td>-0.477181</td>\n",
              "      <td>-0.293834</td>\n",
              "      <td>-0.371668</td>\n",
              "      <td>-0.524650</td>\n",
              "      <td>-0.562013</td>\n",
              "      <td>-0.616040</td>\n",
              "      <td>0.141119</td>\n",
              "      <td>-0.375928</td>\n",
              "      <td>-0.410811</td>\n",
              "      <td>-0.095765</td>\n",
              "      <td>-0.617991</td>\n",
              "      <td>0.588624</td>\n",
              "      <td>-0.144607</td>\n",
              "      <td>-0.100033</td>\n",
              "      <td>-0.8</td>\n",
              "      <td>-0.301042</td>\n",
              "      <td>0.142495</td>\n",
              "      <td>0.6</td>\n",
              "      <td>-0.578258</td>\n",
              "      <td>-0.565720</td>\n",
              "    </tr>\n",
              "    <tr>\n",
              "      <th>20</th>\n",
              "      <td>1</td>\n",
              "      <td>0.471259</td>\n",
              "      <td>0.672874</td>\n",
              "      <td>0.6</td>\n",
              "      <td>-0.544822</td>\n",
              "      <td>-0.482356</td>\n",
              "      <td>-0.296088</td>\n",
              "      <td>-0.373345</td>\n",
              "      <td>-0.539309</td>\n",
              "      <td>-0.576352</td>\n",
              "      <td>-0.629574</td>\n",
              "      <td>0.138784</td>\n",
              "      <td>-0.379055</td>\n",
              "      <td>-0.410811</td>\n",
              "      <td>-0.093648</td>\n",
              "      <td>-0.631455</td>\n",
              "      <td>0.588596</td>\n",
              "      <td>-0.139130</td>\n",
              "      <td>-0.098704</td>\n",
              "      <td>-0.8</td>\n",
              "      <td>-0.304167</td>\n",
              "      <td>0.140169</td>\n",
              "      <td>0.6</td>\n",
              "      <td>-0.592558</td>\n",
              "      <td>-0.579423</td>\n",
              "    </tr>\n",
              "    <tr>\n",
              "      <th>21</th>\n",
              "      <td>1</td>\n",
              "      <td>0.471273</td>\n",
              "      <td>0.673005</td>\n",
              "      <td>0.6</td>\n",
              "      <td>-0.544822</td>\n",
              "      <td>-0.482650</td>\n",
              "      <td>-0.296221</td>\n",
              "      <td>-0.372467</td>\n",
              "      <td>-0.539309</td>\n",
              "      <td>-0.576352</td>\n",
              "      <td>-0.629507</td>\n",
              "      <td>0.138786</td>\n",
              "      <td>-0.379361</td>\n",
              "      <td>-0.410811</td>\n",
              "      <td>-0.095195</td>\n",
              "      <td>-0.631361</td>\n",
              "      <td>0.588613</td>\n",
              "      <td>-0.139694</td>\n",
              "      <td>-0.099389</td>\n",
              "      <td>-0.8</td>\n",
              "      <td>-0.304167</td>\n",
              "      <td>0.140169</td>\n",
              "      <td>0.6</td>\n",
              "      <td>-0.591975</td>\n",
              "      <td>-0.578527</td>\n",
              "    </tr>\n",
              "    <tr>\n",
              "      <th>22</th>\n",
              "      <td>1</td>\n",
              "      <td>0.511741</td>\n",
              "      <td>0.699109</td>\n",
              "      <td>0.7</td>\n",
              "      <td>-0.568630</td>\n",
              "      <td>-0.471520</td>\n",
              "      <td>-0.271648</td>\n",
              "      <td>-0.353488</td>\n",
              "      <td>-0.568627</td>\n",
              "      <td>-0.597170</td>\n",
              "      <td>-0.638375</td>\n",
              "      <td>0.201385</td>\n",
              "      <td>-0.355065</td>\n",
              "      <td>-0.389189</td>\n",
              "      <td>-0.052199</td>\n",
              "      <td>-0.639919</td>\n",
              "      <td>0.687748</td>\n",
              "      <td>-0.090858</td>\n",
              "      <td>-0.156298</td>\n",
              "      <td>-0.8</td>\n",
              "      <td>-0.281250</td>\n",
              "      <td>0.202960</td>\n",
              "      <td>0.7</td>\n",
              "      <td>-0.604047</td>\n",
              "      <td>-0.591277</td>\n",
              "    </tr>\n",
              "    <tr>\n",
              "      <th>23</th>\n",
              "      <td>1</td>\n",
              "      <td>0.511726</td>\n",
              "      <td>0.698919</td>\n",
              "      <td>0.7</td>\n",
              "      <td>-0.568630</td>\n",
              "      <td>-0.470906</td>\n",
              "      <td>-0.271976</td>\n",
              "      <td>-0.353117</td>\n",
              "      <td>-0.568627</td>\n",
              "      <td>-0.597107</td>\n",
              "      <td>-0.638435</td>\n",
              "      <td>0.201387</td>\n",
              "      <td>-0.354676</td>\n",
              "      <td>-0.389189</td>\n",
              "      <td>-0.051629</td>\n",
              "      <td>-0.640058</td>\n",
              "      <td>0.687756</td>\n",
              "      <td>-0.090651</td>\n",
              "      <td>-0.155276</td>\n",
              "      <td>-0.8</td>\n",
              "      <td>-0.278125</td>\n",
              "      <td>0.202960</td>\n",
              "      <td>0.7</td>\n",
              "      <td>-0.604424</td>\n",
              "      <td>-0.591905</td>\n",
              "    </tr>\n",
              "    <tr>\n",
              "      <th>...</th>\n",
              "      <td>...</td>\n",
              "      <td>...</td>\n",
              "      <td>...</td>\n",
              "      <td>...</td>\n",
              "      <td>...</td>\n",
              "      <td>...</td>\n",
              "      <td>...</td>\n",
              "      <td>...</td>\n",
              "      <td>...</td>\n",
              "      <td>...</td>\n",
              "      <td>...</td>\n",
              "      <td>...</td>\n",
              "      <td>...</td>\n",
              "      <td>...</td>\n",
              "      <td>...</td>\n",
              "      <td>...</td>\n",
              "      <td>...</td>\n",
              "      <td>...</td>\n",
              "      <td>...</td>\n",
              "      <td>...</td>\n",
              "      <td>...</td>\n",
              "      <td>...</td>\n",
              "      <td>...</td>\n",
              "      <td>...</td>\n",
              "      <td>...</td>\n",
              "    </tr>\n",
              "    <tr>\n",
              "      <th>224</th>\n",
              "      <td>2</td>\n",
              "      <td>0.249890</td>\n",
              "      <td>0.566568</td>\n",
              "      <td>0.5</td>\n",
              "      <td>-0.292711</td>\n",
              "      <td>-0.302019</td>\n",
              "      <td>-0.177825</td>\n",
              "      <td>-0.283373</td>\n",
              "      <td>-0.319328</td>\n",
              "      <td>-0.366730</td>\n",
              "      <td>-0.441115</td>\n",
              "      <td>0.163046</td>\n",
              "      <td>-0.247099</td>\n",
              "      <td>-0.375676</td>\n",
              "      <td>-0.077769</td>\n",
              "      <td>-0.444096</td>\n",
              "      <td>0.491366</td>\n",
              "      <td>-0.106181</td>\n",
              "      <td>-0.067479</td>\n",
              "      <td>-0.8</td>\n",
              "      <td>-0.204167</td>\n",
              "      <td>0.163002</td>\n",
              "      <td>0.5</td>\n",
              "      <td>-0.397771</td>\n",
              "      <td>-0.389377</td>\n",
              "    </tr>\n",
              "    <tr>\n",
              "      <th>225</th>\n",
              "      <td>2</td>\n",
              "      <td>0.226081</td>\n",
              "      <td>0.513100</td>\n",
              "      <td>0.5</td>\n",
              "      <td>-0.295616</td>\n",
              "      <td>-0.304964</td>\n",
              "      <td>-0.172063</td>\n",
              "      <td>-0.269831</td>\n",
              "      <td>-0.308403</td>\n",
              "      <td>-0.355220</td>\n",
              "      <td>-0.426896</td>\n",
              "      <td>0.161974</td>\n",
              "      <td>-0.242356</td>\n",
              "      <td>-0.324324</td>\n",
              "      <td>-0.069788</td>\n",
              "      <td>-0.429788</td>\n",
              "      <td>0.491350</td>\n",
              "      <td>-0.089070</td>\n",
              "      <td>-0.087200</td>\n",
              "      <td>-0.7</td>\n",
              "      <td>-0.200000</td>\n",
              "      <td>0.161945</td>\n",
              "      <td>0.5</td>\n",
              "      <td>-0.382922</td>\n",
              "      <td>-0.375874</td>\n",
              "    </tr>\n",
              "    <tr>\n",
              "      <th>226</th>\n",
              "      <td>2</td>\n",
              "      <td>0.173707</td>\n",
              "      <td>0.496698</td>\n",
              "      <td>0.5</td>\n",
              "      <td>-0.232917</td>\n",
              "      <td>-0.252730</td>\n",
              "      <td>-0.134176</td>\n",
              "      <td>-0.237927</td>\n",
              "      <td>-0.257610</td>\n",
              "      <td>-0.305220</td>\n",
              "      <td>-0.380187</td>\n",
              "      <td>0.185630</td>\n",
              "      <td>-0.209408</td>\n",
              "      <td>-0.308108</td>\n",
              "      <td>-0.050896</td>\n",
              "      <td>-0.382831</td>\n",
              "      <td>0.491347</td>\n",
              "      <td>-0.094545</td>\n",
              "      <td>-0.092494</td>\n",
              "      <td>-0.7</td>\n",
              "      <td>-0.165625</td>\n",
              "      <td>0.185624</td>\n",
              "      <td>0.5</td>\n",
              "      <td>-0.335700</td>\n",
              "      <td>-0.328821</td>\n",
              "    </tr>\n",
              "    <tr>\n",
              "      <th>227</th>\n",
              "      <td>2</td>\n",
              "      <td>0.173710</td>\n",
              "      <td>0.496793</td>\n",
              "      <td>0.5</td>\n",
              "      <td>-0.232917</td>\n",
              "      <td>-0.252610</td>\n",
              "      <td>-0.132924</td>\n",
              "      <td>-0.239470</td>\n",
              "      <td>-0.257610</td>\n",
              "      <td>-0.305220</td>\n",
              "      <td>-0.380092</td>\n",
              "      <td>0.185609</td>\n",
              "      <td>-0.208939</td>\n",
              "      <td>-0.308108</td>\n",
              "      <td>-0.049674</td>\n",
              "      <td>-0.382658</td>\n",
              "      <td>0.491327</td>\n",
              "      <td>-0.095409</td>\n",
              "      <td>-0.092249</td>\n",
              "      <td>-0.7</td>\n",
              "      <td>-0.164583</td>\n",
              "      <td>0.185624</td>\n",
              "      <td>0.5</td>\n",
              "      <td>-0.335117</td>\n",
              "      <td>-0.329647</td>\n",
              "    </tr>\n",
              "    <tr>\n",
              "      <th>228</th>\n",
              "      <td>2</td>\n",
              "      <td>0.126083</td>\n",
              "      <td>0.413492</td>\n",
              "      <td>0.5</td>\n",
              "      <td>-0.195616</td>\n",
              "      <td>-0.220415</td>\n",
              "      <td>-0.103974</td>\n",
              "      <td>-0.202775</td>\n",
              "      <td>-0.208403</td>\n",
              "      <td>-0.255220</td>\n",
              "      <td>-0.327758</td>\n",
              "      <td>0.199130</td>\n",
              "      <td>-0.180658</td>\n",
              "      <td>-0.248649</td>\n",
              "      <td>-0.025326</td>\n",
              "      <td>-0.330257</td>\n",
              "      <td>0.491305</td>\n",
              "      <td>-0.076353</td>\n",
              "      <td>-0.121262</td>\n",
              "      <td>-0.6</td>\n",
              "      <td>-0.135417</td>\n",
              "      <td>0.199154</td>\n",
              "      <td>0.5</td>\n",
              "      <td>-0.285357</td>\n",
              "      <td>-0.280742</td>\n",
              "    </tr>\n",
              "  </tbody>\n",
              "</table>\n",
              "<p>191 rows × 25 columns</p>\n",
              "</div>"
            ],
            "text/plain": [
              "     UnitNumber  OperationalSetting1  ...  SensorMeasure20  SensorMeasure21\n",
              "19            1             0.454584  ...        -0.578258        -0.565720\n",
              "20            1             0.471259  ...        -0.592558        -0.579423\n",
              "21            1             0.471273  ...        -0.591975        -0.578527\n",
              "22            1             0.511741  ...        -0.604047        -0.591277\n",
              "23            1             0.511726  ...        -0.604424        -0.591905\n",
              "..          ...                  ...  ...              ...              ...\n",
              "224           2             0.249890  ...        -0.397771        -0.389377\n",
              "225           2             0.226081  ...        -0.382922        -0.375874\n",
              "226           2             0.173707  ...        -0.335700        -0.328821\n",
              "227           2             0.173710  ...        -0.335117        -0.329647\n",
              "228           2             0.126083  ...        -0.285357        -0.280742\n",
              "\n",
              "[191 rows x 25 columns]"
            ]
          },
          "metadata": {
            "tags": []
          },
          "execution_count": 13
        }
      ]
    },
    {
      "cell_type": "code",
      "metadata": {
        "id": "BKLZF6UbVRZr"
      },
      "source": [
        "test_data = smoothening(test_data,features_columns,window)\n",
        "# test_data"
      ],
      "execution_count": 14,
      "outputs": []
    },
    {
      "cell_type": "markdown",
      "metadata": {
        "id": "lsGhW6rLv65t"
      },
      "source": [
        "## Adjusting RUL"
      ]
    },
    {
      "cell_type": "code",
      "metadata": {
        "id": "RV1CRE8k0Eec"
      },
      "source": [
        "def adjust_rul(df):\n",
        "  df['cycle'] = df.groupby('UnitNumber').cumcount()+1\n",
        "  df['RUL'] = df.groupby('UnitNumber').cycle.transform('max') - df.cycle  \n",
        "  return df"
      ],
      "execution_count": 15,
      "outputs": []
    },
    {
      "cell_type": "code",
      "metadata": {
        "id": "WmBOehyV0hHM",
        "outputId": "69ab6789-da95-4bda-cbe8-c86d32ca86cd",
        "colab": {
          "base_uri": "https://localhost:8080/",
          "height": 215
        }
      },
      "source": [
        "train_data = adjust_rul(train_data)\n",
        "train_data.head()"
      ],
      "execution_count": 16,
      "outputs": [
        {
          "output_type": "execute_result",
          "data": {
            "text/html": [
              "<div>\n",
              "<style scoped>\n",
              "    .dataframe tbody tr th:only-of-type {\n",
              "        vertical-align: middle;\n",
              "    }\n",
              "\n",
              "    .dataframe tbody tr th {\n",
              "        vertical-align: top;\n",
              "    }\n",
              "\n",
              "    .dataframe thead th {\n",
              "        text-align: right;\n",
              "    }\n",
              "</style>\n",
              "<table border=\"1\" class=\"dataframe\">\n",
              "  <thead>\n",
              "    <tr style=\"text-align: right;\">\n",
              "      <th></th>\n",
              "      <th>UnitNumber</th>\n",
              "      <th>OperationalSetting1</th>\n",
              "      <th>OperationalSetting2</th>\n",
              "      <th>OperationalSetting3</th>\n",
              "      <th>SensorMeasure1</th>\n",
              "      <th>SensorMeasure2</th>\n",
              "      <th>SensorMeasure3</th>\n",
              "      <th>SensorMeasure4</th>\n",
              "      <th>SensorMeasure5</th>\n",
              "      <th>SensorMeasure6</th>\n",
              "      <th>SensorMeasure7</th>\n",
              "      <th>SensorMeasure8</th>\n",
              "      <th>SensorMeasure9</th>\n",
              "      <th>SensorMeasure10</th>\n",
              "      <th>SensorMeasure11</th>\n",
              "      <th>SensorMeasure12</th>\n",
              "      <th>SensorMeasure13</th>\n",
              "      <th>SensorMeasure14</th>\n",
              "      <th>SensorMeasure15</th>\n",
              "      <th>SensorMeasure16</th>\n",
              "      <th>SensorMeasure17</th>\n",
              "      <th>SensorMeasure18</th>\n",
              "      <th>SensorMeasure19</th>\n",
              "      <th>SensorMeasure20</th>\n",
              "      <th>SensorMeasure21</th>\n",
              "      <th>cycle</th>\n",
              "      <th>RUL</th>\n",
              "    </tr>\n",
              "  </thead>\n",
              "  <tbody>\n",
              "    <tr>\n",
              "      <th>19</th>\n",
              "      <td>1</td>\n",
              "      <td>0.454584</td>\n",
              "      <td>0.672838</td>\n",
              "      <td>0.6</td>\n",
              "      <td>-0.538795</td>\n",
              "      <td>-0.477181</td>\n",
              "      <td>-0.293834</td>\n",
              "      <td>-0.371668</td>\n",
              "      <td>-0.524650</td>\n",
              "      <td>-0.562013</td>\n",
              "      <td>-0.616040</td>\n",
              "      <td>0.141119</td>\n",
              "      <td>-0.375928</td>\n",
              "      <td>-0.410811</td>\n",
              "      <td>-0.095765</td>\n",
              "      <td>-0.617991</td>\n",
              "      <td>0.588624</td>\n",
              "      <td>-0.144607</td>\n",
              "      <td>-0.100033</td>\n",
              "      <td>-0.8</td>\n",
              "      <td>-0.301042</td>\n",
              "      <td>0.142495</td>\n",
              "      <td>0.6</td>\n",
              "      <td>-0.578258</td>\n",
              "      <td>-0.565720</td>\n",
              "      <td>1</td>\n",
              "      <td>129</td>\n",
              "    </tr>\n",
              "    <tr>\n",
              "      <th>20</th>\n",
              "      <td>1</td>\n",
              "      <td>0.471259</td>\n",
              "      <td>0.672874</td>\n",
              "      <td>0.6</td>\n",
              "      <td>-0.544822</td>\n",
              "      <td>-0.482356</td>\n",
              "      <td>-0.296088</td>\n",
              "      <td>-0.373345</td>\n",
              "      <td>-0.539309</td>\n",
              "      <td>-0.576352</td>\n",
              "      <td>-0.629574</td>\n",
              "      <td>0.138784</td>\n",
              "      <td>-0.379055</td>\n",
              "      <td>-0.410811</td>\n",
              "      <td>-0.093648</td>\n",
              "      <td>-0.631455</td>\n",
              "      <td>0.588596</td>\n",
              "      <td>-0.139130</td>\n",
              "      <td>-0.098704</td>\n",
              "      <td>-0.8</td>\n",
              "      <td>-0.304167</td>\n",
              "      <td>0.140169</td>\n",
              "      <td>0.6</td>\n",
              "      <td>-0.592558</td>\n",
              "      <td>-0.579423</td>\n",
              "      <td>2</td>\n",
              "      <td>128</td>\n",
              "    </tr>\n",
              "    <tr>\n",
              "      <th>21</th>\n",
              "      <td>1</td>\n",
              "      <td>0.471273</td>\n",
              "      <td>0.673005</td>\n",
              "      <td>0.6</td>\n",
              "      <td>-0.544822</td>\n",
              "      <td>-0.482650</td>\n",
              "      <td>-0.296221</td>\n",
              "      <td>-0.372467</td>\n",
              "      <td>-0.539309</td>\n",
              "      <td>-0.576352</td>\n",
              "      <td>-0.629507</td>\n",
              "      <td>0.138786</td>\n",
              "      <td>-0.379361</td>\n",
              "      <td>-0.410811</td>\n",
              "      <td>-0.095195</td>\n",
              "      <td>-0.631361</td>\n",
              "      <td>0.588613</td>\n",
              "      <td>-0.139694</td>\n",
              "      <td>-0.099389</td>\n",
              "      <td>-0.8</td>\n",
              "      <td>-0.304167</td>\n",
              "      <td>0.140169</td>\n",
              "      <td>0.6</td>\n",
              "      <td>-0.591975</td>\n",
              "      <td>-0.578527</td>\n",
              "      <td>3</td>\n",
              "      <td>127</td>\n",
              "    </tr>\n",
              "    <tr>\n",
              "      <th>22</th>\n",
              "      <td>1</td>\n",
              "      <td>0.511741</td>\n",
              "      <td>0.699109</td>\n",
              "      <td>0.7</td>\n",
              "      <td>-0.568630</td>\n",
              "      <td>-0.471520</td>\n",
              "      <td>-0.271648</td>\n",
              "      <td>-0.353488</td>\n",
              "      <td>-0.568627</td>\n",
              "      <td>-0.597170</td>\n",
              "      <td>-0.638375</td>\n",
              "      <td>0.201385</td>\n",
              "      <td>-0.355065</td>\n",
              "      <td>-0.389189</td>\n",
              "      <td>-0.052199</td>\n",
              "      <td>-0.639919</td>\n",
              "      <td>0.687748</td>\n",
              "      <td>-0.090858</td>\n",
              "      <td>-0.156298</td>\n",
              "      <td>-0.8</td>\n",
              "      <td>-0.281250</td>\n",
              "      <td>0.202960</td>\n",
              "      <td>0.7</td>\n",
              "      <td>-0.604047</td>\n",
              "      <td>-0.591277</td>\n",
              "      <td>4</td>\n",
              "      <td>126</td>\n",
              "    </tr>\n",
              "    <tr>\n",
              "      <th>23</th>\n",
              "      <td>1</td>\n",
              "      <td>0.511726</td>\n",
              "      <td>0.698919</td>\n",
              "      <td>0.7</td>\n",
              "      <td>-0.568630</td>\n",
              "      <td>-0.470906</td>\n",
              "      <td>-0.271976</td>\n",
              "      <td>-0.353117</td>\n",
              "      <td>-0.568627</td>\n",
              "      <td>-0.597107</td>\n",
              "      <td>-0.638435</td>\n",
              "      <td>0.201387</td>\n",
              "      <td>-0.354676</td>\n",
              "      <td>-0.389189</td>\n",
              "      <td>-0.051629</td>\n",
              "      <td>-0.640058</td>\n",
              "      <td>0.687756</td>\n",
              "      <td>-0.090651</td>\n",
              "      <td>-0.155276</td>\n",
              "      <td>-0.8</td>\n",
              "      <td>-0.278125</td>\n",
              "      <td>0.202960</td>\n",
              "      <td>0.7</td>\n",
              "      <td>-0.604424</td>\n",
              "      <td>-0.591905</td>\n",
              "      <td>5</td>\n",
              "      <td>125</td>\n",
              "    </tr>\n",
              "  </tbody>\n",
              "</table>\n",
              "</div>"
            ],
            "text/plain": [
              "    UnitNumber  OperationalSetting1  ...  cycle  RUL\n",
              "19           1             0.454584  ...      1  129\n",
              "20           1             0.471259  ...      2  128\n",
              "21           1             0.471273  ...      3  127\n",
              "22           1             0.511741  ...      4  126\n",
              "23           1             0.511726  ...      5  125\n",
              "\n",
              "[5 rows x 27 columns]"
            ]
          },
          "metadata": {
            "tags": []
          },
          "execution_count": 16
        }
      ]
    },
    {
      "cell_type": "code",
      "metadata": {
        "id": "OkTOowlq0xO3",
        "outputId": "bcff5f44-13f3-4b61-eec8-3d9b84d8d7e9",
        "colab": {
          "base_uri": "https://localhost:8080/",
          "height": 215
        }
      },
      "source": [
        "test_data = adjust_rul(test_data)\n",
        "test_data.head()"
      ],
      "execution_count": 17,
      "outputs": [
        {
          "output_type": "execute_result",
          "data": {
            "text/html": [
              "<div>\n",
              "<style scoped>\n",
              "    .dataframe tbody tr th:only-of-type {\n",
              "        vertical-align: middle;\n",
              "    }\n",
              "\n",
              "    .dataframe tbody tr th {\n",
              "        vertical-align: top;\n",
              "    }\n",
              "\n",
              "    .dataframe thead th {\n",
              "        text-align: right;\n",
              "    }\n",
              "</style>\n",
              "<table border=\"1\" class=\"dataframe\">\n",
              "  <thead>\n",
              "    <tr style=\"text-align: right;\">\n",
              "      <th></th>\n",
              "      <th>UnitNumber</th>\n",
              "      <th>OperationalSetting1</th>\n",
              "      <th>OperationalSetting2</th>\n",
              "      <th>OperationalSetting3</th>\n",
              "      <th>SensorMeasure1</th>\n",
              "      <th>SensorMeasure2</th>\n",
              "      <th>SensorMeasure3</th>\n",
              "      <th>SensorMeasure4</th>\n",
              "      <th>SensorMeasure5</th>\n",
              "      <th>SensorMeasure6</th>\n",
              "      <th>SensorMeasure7</th>\n",
              "      <th>SensorMeasure8</th>\n",
              "      <th>SensorMeasure9</th>\n",
              "      <th>SensorMeasure10</th>\n",
              "      <th>SensorMeasure11</th>\n",
              "      <th>SensorMeasure12</th>\n",
              "      <th>SensorMeasure13</th>\n",
              "      <th>SensorMeasure14</th>\n",
              "      <th>SensorMeasure15</th>\n",
              "      <th>SensorMeasure16</th>\n",
              "      <th>SensorMeasure17</th>\n",
              "      <th>SensorMeasure18</th>\n",
              "      <th>SensorMeasure19</th>\n",
              "      <th>SensorMeasure20</th>\n",
              "      <th>SensorMeasure21</th>\n",
              "      <th>cycle</th>\n",
              "      <th>RUL</th>\n",
              "    </tr>\n",
              "  </thead>\n",
              "  <tbody>\n",
              "    <tr>\n",
              "      <th>19</th>\n",
              "      <td>1</td>\n",
              "      <td>0.337958</td>\n",
              "      <td>0.575689</td>\n",
              "      <td>0.5</td>\n",
              "      <td>-0.455192</td>\n",
              "      <td>-0.434092</td>\n",
              "      <td>-0.284994</td>\n",
              "      <td>-0.361198</td>\n",
              "      <td>-0.433613</td>\n",
              "      <td>-0.479434</td>\n",
              "      <td>-0.546967</td>\n",
              "      <td>0.101172</td>\n",
              "      <td>-0.345148</td>\n",
              "      <td>-0.370270</td>\n",
              "      <td>-0.089008</td>\n",
              "      <td>-0.548290</td>\n",
              "      <td>0.491714</td>\n",
              "      <td>-0.139016</td>\n",
              "      <td>-0.049904</td>\n",
              "      <td>-0.7</td>\n",
              "      <td>-0.278947</td>\n",
              "      <td>0.102326</td>\n",
              "      <td>0.5</td>\n",
              "      <td>-0.503500</td>\n",
              "      <td>-0.502338</td>\n",
              "      <td>1</td>\n",
              "      <td>238</td>\n",
              "    </tr>\n",
              "    <tr>\n",
              "      <th>20</th>\n",
              "      <td>1</td>\n",
              "      <td>0.337968</td>\n",
              "      <td>0.575665</td>\n",
              "      <td>0.5</td>\n",
              "      <td>-0.455192</td>\n",
              "      <td>-0.434643</td>\n",
              "      <td>-0.287082</td>\n",
              "      <td>-0.361458</td>\n",
              "      <td>-0.433613</td>\n",
              "      <td>-0.479434</td>\n",
              "      <td>-0.547039</td>\n",
              "      <td>0.101176</td>\n",
              "      <td>-0.344900</td>\n",
              "      <td>-0.370270</td>\n",
              "      <td>-0.090744</td>\n",
              "      <td>-0.548486</td>\n",
              "      <td>0.491706</td>\n",
              "      <td>-0.138345</td>\n",
              "      <td>-0.048667</td>\n",
              "      <td>-0.7</td>\n",
              "      <td>-0.277895</td>\n",
              "      <td>0.102326</td>\n",
              "      <td>0.5</td>\n",
              "      <td>-0.502917</td>\n",
              "      <td>-0.502329</td>\n",
              "      <td>2</td>\n",
              "      <td>237</td>\n",
              "    </tr>\n",
              "    <tr>\n",
              "      <th>21</th>\n",
              "      <td>1</td>\n",
              "      <td>0.373665</td>\n",
              "      <td>0.592292</td>\n",
              "      <td>0.5</td>\n",
              "      <td>-0.511864</td>\n",
              "      <td>-0.482573</td>\n",
              "      <td>-0.319107</td>\n",
              "      <td>-0.392654</td>\n",
              "      <td>-0.469748</td>\n",
              "      <td>-0.515031</td>\n",
              "      <td>-0.580329</td>\n",
              "      <td>0.079788</td>\n",
              "      <td>-0.375743</td>\n",
              "      <td>-0.386486</td>\n",
              "      <td>-0.110413</td>\n",
              "      <td>-0.582059</td>\n",
              "      <td>0.491623</td>\n",
              "      <td>-0.137645</td>\n",
              "      <td>-0.045096</td>\n",
              "      <td>-0.7</td>\n",
              "      <td>-0.309474</td>\n",
              "      <td>0.080973</td>\n",
              "      <td>0.5</td>\n",
              "      <td>-0.535450</td>\n",
              "      <td>-0.535642</td>\n",
              "      <td>3</td>\n",
              "      <td>236</td>\n",
              "    </tr>\n",
              "    <tr>\n",
              "      <th>22</th>\n",
              "      <td>1</td>\n",
              "      <td>0.314144</td>\n",
              "      <td>0.522399</td>\n",
              "      <td>0.5</td>\n",
              "      <td>-0.458097</td>\n",
              "      <td>-0.437591</td>\n",
              "      <td>-0.279642</td>\n",
              "      <td>-0.346459</td>\n",
              "      <td>-0.422689</td>\n",
              "      <td>-0.467925</td>\n",
              "      <td>-0.532469</td>\n",
              "      <td>0.100125</td>\n",
              "      <td>-0.339609</td>\n",
              "      <td>-0.321622</td>\n",
              "      <td>-0.082231</td>\n",
              "      <td>-0.534191</td>\n",
              "      <td>0.491755</td>\n",
              "      <td>-0.121062</td>\n",
              "      <td>-0.070390</td>\n",
              "      <td>-0.6</td>\n",
              "      <td>-0.270526</td>\n",
              "      <td>0.101268</td>\n",
              "      <td>0.5</td>\n",
              "      <td>-0.488916</td>\n",
              "      <td>-0.489331</td>\n",
              "      <td>4</td>\n",
              "      <td>235</td>\n",
              "    </tr>\n",
              "    <tr>\n",
              "      <th>23</th>\n",
              "      <td>1</td>\n",
              "      <td>0.314135</td>\n",
              "      <td>0.522387</td>\n",
              "      <td>0.5</td>\n",
              "      <td>-0.458097</td>\n",
              "      <td>-0.438647</td>\n",
              "      <td>-0.277242</td>\n",
              "      <td>-0.347984</td>\n",
              "      <td>-0.422689</td>\n",
              "      <td>-0.467925</td>\n",
              "      <td>-0.532455</td>\n",
              "      <td>0.100129</td>\n",
              "      <td>-0.340348</td>\n",
              "      <td>-0.321622</td>\n",
              "      <td>-0.083471</td>\n",
              "      <td>-0.534310</td>\n",
              "      <td>0.491741</td>\n",
              "      <td>-0.121652</td>\n",
              "      <td>-0.071757</td>\n",
              "      <td>-0.6</td>\n",
              "      <td>-0.270526</td>\n",
              "      <td>0.101268</td>\n",
              "      <td>0.5</td>\n",
              "      <td>-0.487783</td>\n",
              "      <td>-0.489713</td>\n",
              "      <td>5</td>\n",
              "      <td>234</td>\n",
              "    </tr>\n",
              "  </tbody>\n",
              "</table>\n",
              "</div>"
            ],
            "text/plain": [
              "    UnitNumber  OperationalSetting1  ...  cycle  RUL\n",
              "19           1             0.337958  ...      1  238\n",
              "20           1             0.337968  ...      2  237\n",
              "21           1             0.373665  ...      3  236\n",
              "22           1             0.314144  ...      4  235\n",
              "23           1             0.314135  ...      5  234\n",
              "\n",
              "[5 rows x 27 columns]"
            ]
          },
          "metadata": {
            "tags": []
          },
          "execution_count": 17
        }
      ]
    },
    {
      "cell_type": "markdown",
      "metadata": {
        "id": "epRwlyS9Rz14"
      },
      "source": [
        "## Feature Selection"
      ]
    },
    {
      "cell_type": "code",
      "metadata": {
        "id": "pgfe9J-XSoUP"
      },
      "source": [
        "def lag(df):\n",
        "  df_lag = df.groupby('UnitNumber').diff(1)\n",
        "  df_lag['UnitNumber'] = df['UnitNumber']\n",
        "  df_lag.dropna(inplace = True)\n",
        "  df_lag = df_lag.reset_index(drop = True)\n",
        "  return df_lag\n",
        "\n",
        "def monotonicity(data):\n",
        "    \n",
        "    num_pos = data[data > 0].shape[0]\n",
        "    num_neg = data[data < 0].shape[0]\n",
        "    tot_n = data.shape[0] - 1\n",
        "    \n",
        "    mon_val = np.abs(num_pos - num_neg)/tot_n\n",
        "    return mon_val\n",
        "\n",
        "def monotonicity_df(df, features_columns):\n",
        "  mon_df = pd.DataFrame(columns = ['feature', 'monotonicity_val'])\n",
        "  df_lag = lag(df)\n",
        "  for col in features_columns:\n",
        "      mon_val = []\n",
        "      for unit in df_lag.UnitNumber.unique():\n",
        "          mon_val.append(monotonicity(df_lag.loc[df_lag.UnitNumber == unit, col]))\n",
        "      mon_df = mon_df.append({'feature': col, 'monotonicity_val': np.mean(mon_val)}, ignore_index = True)\n",
        "  return mon_df\n",
        "\n",
        "def monotonus_cols(df,features,threshold):\n",
        "  columns = []\n",
        "  data = monotonicity_df(df, features_columns)\n",
        "  cols = np.array(data.feature)\n",
        "  mon_values = np.array(data.monotonicity_val)\n",
        "  for i in range(len(mon_values)):\n",
        "    if mon_values[i] > threshold:\n",
        "      columns.append(cols[i])\n",
        "  return columns"
      ],
      "execution_count": 18,
      "outputs": []
    },
    {
      "cell_type": "code",
      "metadata": {
        "id": "nP4s8tKxfKTR",
        "outputId": "1c125ebd-2770-4a5f-c901-df114502068c",
        "colab": {
          "base_uri": "https://localhost:8080/"
        }
      },
      "source": [
        "threshold = 0.03\n",
        "monotonus_cols(train_data,features_columns,threshold)"
      ],
      "execution_count": 19,
      "outputs": [
        {
          "output_type": "execute_result",
          "data": {
            "text/plain": [
              "['OperationalSetting1',\n",
              " 'OperationalSetting2',\n",
              " 'SensorMeasure2',\n",
              " 'SensorMeasure3',\n",
              " 'SensorMeasure4',\n",
              " 'SensorMeasure5',\n",
              " 'SensorMeasure6',\n",
              " 'SensorMeasure7',\n",
              " 'SensorMeasure8',\n",
              " 'SensorMeasure9',\n",
              " 'SensorMeasure11',\n",
              " 'SensorMeasure12',\n",
              " 'SensorMeasure13',\n",
              " 'SensorMeasure14',\n",
              " 'SensorMeasure15',\n",
              " 'SensorMeasure17',\n",
              " 'SensorMeasure20',\n",
              " 'SensorMeasure21']"
            ]
          },
          "metadata": {
            "tags": []
          },
          "execution_count": 19
        }
      ]
    },
    {
      "cell_type": "code",
      "metadata": {
        "id": "oqlxHYd-knGY"
      },
      "source": [
        "features = monotonus_cols(train_data,features_columns,threshold)"
      ],
      "execution_count": 20,
      "outputs": []
    },
    {
      "cell_type": "code",
      "metadata": {
        "id": "X8_qdq3l0gZq",
        "outputId": "ecdaf8ac-1d50-4f35-bbac-c4c0f287b8cb",
        "colab": {
          "base_uri": "https://localhost:8080/"
        }
      },
      "source": [
        "len(features)"
      ],
      "execution_count": 21,
      "outputs": [
        {
          "output_type": "execute_result",
          "data": {
            "text/plain": [
              "18"
            ]
          },
          "metadata": {
            "tags": []
          },
          "execution_count": 21
        }
      ]
    },
    {
      "cell_type": "markdown",
      "metadata": {
        "id": "ufZOQQNbk6EH"
      },
      "source": [
        "# Exploratory data analysis"
      ]
    },
    {
      "cell_type": "markdown",
      "metadata": {
        "id": "BtLd59WI8nsx"
      },
      "source": [
        "## PLots"
      ]
    },
    {
      "cell_type": "code",
      "metadata": {
        "id": "JshEFktl8qQ8"
      },
      "source": [
        "import seaborn as sns\n",
        "sns.set()"
      ],
      "execution_count": 22,
      "outputs": []
    },
    {
      "cell_type": "code",
      "metadata": {
        "id": "IYiUCq1IkwTe",
        "outputId": "4295092a-fb3f-4fbd-81af-e6be4713deb2",
        "colab": {
          "base_uri": "https://localhost:8080/",
          "height": 611
        }
      },
      "source": [
        "def plots(df,features_columns):\n",
        "  mon_df = monotonicity_df(df, features_columns)\n",
        "  mon_df.sort_values(by = 'monotonicity_val', ascending = False, inplace=True)\n",
        "  fig, ax = plt.subplots(figsize = (7,10))\n",
        "  sns.barplot(x = mon_df.monotonicity_val,y = mon_df.feature)\n",
        "  \n",
        "plots(train_data, features_columns)"
      ],
      "execution_count": 23,
      "outputs": [
        {
          "output_type": "display_data",
          "data": {
            "image/png": "[encoded data removed]",
            "text/plain": [
              "<Figure size 504x720 with 1 Axes>"
            ]
          },
          "metadata": {
            "tags": []
          }
        }
      ]
    },
    {
      "cell_type": "code",
      "metadata": {
        "id": "RaGS4vAYARzn",
        "outputId": "ec51f21c-0d3f-4254-e8e4-c339f49bf544",
        "colab": {
          "base_uri": "https://localhost:8080/",
          "height": 286
        }
      },
      "source": [
        "x = np.array(train_data['SensorMeasure2'])\n",
        "plt.plot(x)"
      ],
      "execution_count": 24,
      "outputs": [
        {
          "output_type": "execute_result",
          "data": {
            "text/plain": [
              "[<matplotlib.lines.Line2D at 0x7fc10460a2b0>]"
            ]
          },
          "metadata": {
            "tags": []
          },
          "execution_count": 24
        },
        {
          "output_type": "display_data",
          "data": {
            "image/png": "[encoded data removed]",
            "text/plain": [
              "<Figure size 432x288 with 1 Axes>"
            ]
          },
          "metadata": {
            "tags": []
          }
        }
      ]
    },
    {
      "cell_type": "markdown",
      "metadata": {
        "id": "nLs1uQ27iHYP"
      },
      "source": [
        "Smoothening the Sensor Data"
      ]
    },
    {
      "cell_type": "markdown",
      "metadata": {
        "id": "D5VfOlv2mSjV"
      },
      "source": [
        "To smoothen the data we have some methods\n",
        "\n",
        "\n",
        "*   Rolling Window\n",
        "*   Tsmoothie\n",
        "\n"
      ]
    },
    {
      "cell_type": "code",
      "metadata": {
        "id": "tf8Cq4tukVKx"
      },
      "source": [
        "# np.random.seed(33)\n",
        "\n",
        "# data = sim_randomwalk(n_series=10, timesteps=200, \n",
        "#                       process_noise=10, measure_noise=30)\n",
        "\n",
        "\n",
        "# # operate smoothing\n",
        "# smoother = ExponentialSmoother(window_len=20, alpha=0.3)\n",
        "# smoother.smooth(data)\n",
        "\n",
        "# # # generate intervals\n",
        "# # low, up = smoother.get_intervals('sigma_interval')\n",
        "\n",
        "# # plt.plot(smoother.smooth_data[0], linewidth=3, color='blue')\n",
        "# # plt.plot(smoother.data[0], '.k')\n",
        "# # plt.xlabel('time')\n",
        "\n",
        "# # # plt.fill_between(range(len(smoother.data[0])), low[0], up[0], alpha=0.3)\n",
        "# type(smoother.smooth_data)"
      ],
      "execution_count": 25,
      "outputs": []
    },
    {
      "cell_type": "code",
      "metadata": {
        "id": "cLt27MXDdkIU"
      },
      "source": [
        "# train_data_smooth = train_data\n",
        "# for cols in train_data.columns:\n",
        "#   smoother = ExponentialSmoother(window_len=20, alpha=0.3)\n",
        "#   smoother.smooth(train_data[cols])\n",
        "#   # generate intervals\n",
        "#   low, up = smoother.get_intervals('sigma_interval')\n",
        "\n",
        "#   train_data_smooth[cols] = pd.DataFrame(smoother.smooth_data) \n"
      ],
      "execution_count": 26,
      "outputs": []
    },
    {
      "cell_type": "markdown",
      "metadata": {
        "id": "iNf89bJA3_ml"
      },
      "source": [
        "# LSTM"
      ]
    },
    {
      "cell_type": "markdown",
      "metadata": {
        "id": "vZ0SgjHVnufN"
      },
      "source": [
        "## Libraries"
      ]
    },
    {
      "cell_type": "code",
      "metadata": {
        "id": "gN341T8Np719"
      },
      "source": [
        "#for deep learning\n",
        "import tensorflow as tf\n",
        "from tensorflow import keras\n",
        "import keras\n",
        "import keras.backend as k\n",
        "from keras.models import Sequential\n",
        "from keras.layers import Dense, LSTM, Activation, Masking, Dropout\n",
        "from keras.optimizers import RMSprop, Adam\n",
        "from keras.callbacks import History\n",
        "from keras import callbacks"
      ],
      "execution_count": 27,
      "outputs": []
    },
    {
      "cell_type": "code",
      "metadata": {
        "id": "8msYk4EwGAN0",
        "outputId": "c9bdbc1e-48b3-448e-fbe8-dc7b857bd3aa",
        "colab": {
          "base_uri": "https://localhost:8080/"
        }
      },
      "source": [
        "with tf.device(\"gpu:0\"):\n",
        "   print(\"tf.keras code in this scope will run on GPU\")"
      ],
      "execution_count": 28,
      "outputs": [
        {
          "output_type": "stream",
          "text": [
            "tf.keras code in this scope will run on GPU\n"
          ],
          "name": "stdout"
        }
      ]
    },
    {
      "cell_type": "code",
      "metadata": {
        "id": "PEu1SA4wE2I6"
      },
      "source": [
        "config = tf.compat.v1.ConfigProto( device_count = {'GPU': 1} ) \n",
        "# ()\n",
        "sess = tf.compat.v1.Session(config=config) \n",
        "tf.compat.v1.keras.backend.set_session(sess)\n",
        "# tf.compat.v1.keras.backend"
      ],
      "execution_count": 29,
      "outputs": []
    },
    {
      "cell_type": "markdown",
      "metadata": {
        "id": "BTyow5t0qTA0"
      },
      "source": [
        "## Dataset Genearation"
      ]
    },
    {
      "cell_type": "code",
      "metadata": {
        "id": "7BZZnroKqW5D"
      },
      "source": [
        "def gen_train(id_df, seq_length, seq_cols):\n",
        "    \"\"\"\n",
        "        function to prepare train data into (samples, time steps, features)\n",
        "        id_df = train dataframe\n",
        "        seq_length = look back period\n",
        "        seq_cols = feature columns\n",
        "    \"\"\"\n",
        "        \n",
        "    data_array = id_df[seq_cols].values\n",
        "    num_elements = data_array.shape[0]\n",
        "    lstm_array=[]\n",
        "    \n",
        "    for start, stop in zip(range(0, num_elements-seq_length+1), range(seq_length, num_elements+1)):\n",
        "      lstm_array.append(data_array[start:stop, :])\n",
        "    \n",
        "    return np.array(lstm_array)"
      ],
      "execution_count": 30,
      "outputs": []
    },
    {
      "cell_type": "code",
      "metadata": {
        "id": "GhHXYm9Jqcvv"
      },
      "source": [
        "def gen_target(id_df, seq_length, label):\n",
        "    data_array = id_df[label].values\n",
        "    num_elements = data_array.shape[0]\n",
        "    return data_array[seq_length-1:num_elements+1]"
      ],
      "execution_count": 31,
      "outputs": []
    },
    {
      "cell_type": "code",
      "metadata": {
        "id": "cO9c5EeGqpMM"
      },
      "source": [
        "def gen_test(id_df, seq_length, seq_cols, mask_value):\n",
        "    \"\"\"\n",
        "        function to prepare test data into (samples, time steps, features)\n",
        "        function only returns last sequence of data for every unit\n",
        "        id_df = test dataframe\n",
        "        seq_length = look back period\n",
        "        seq_cols = feature columns\n",
        "    \"\"\"\n",
        "    df_mask = pd.DataFrame(np.zeros((seq_length-1,id_df.shape[1])),columns=id_df.columns)\n",
        "    df_mask[:] = mask_value\n",
        "    \n",
        "    id_df = df_mask.append(id_df,ignore_index=True)\n",
        "    \n",
        "    data_array = id_df[seq_cols].values\n",
        "    num_elements = data_array.shape[0]\n",
        "    lstm_array=[]\n",
        "    \n",
        "    start = num_elements-seq_length\n",
        "    stop = num_elements\n",
        "    \n",
        "    lstm_array.append(data_array[start:stop, :])\n",
        "    \n",
        "    return np.array(lstm_array)"
      ],
      "execution_count": 32,
      "outputs": []
    },
    {
      "cell_type": "code",
      "metadata": {
        "id": "ayqNlbXsHsq2"
      },
      "source": [
        "sequence_length = 50\n",
        "mask_value = 0"
      ],
      "execution_count": 33,
      "outputs": []
    },
    {
      "cell_type": "code",
      "metadata": {
        "id": "WZJwqTU6nEH3",
        "outputId": "0ede9844-9bb6-4c60-e772-fca5f5104118",
        "colab": {
          "base_uri": "https://localhost:8080/"
        }
      },
      "source": [
        "#generate train\n",
        "x_train=np.concatenate(list(list(gen_train(train_data[train_data['UnitNumber']==unit], sequence_length, features)) for unit in train_data['UnitNumber'].unique()))\n",
        "print(x_train.shape)"
      ],
      "execution_count": 34,
      "outputs": [
        {
          "output_type": "stream",
          "text": [
            "(36079, 50, 18)\n"
          ],
          "name": "stdout"
        }
      ]
    },
    {
      "cell_type": "code",
      "metadata": {
        "id": "WmAd_LAusSN-",
        "outputId": "baae72f1-560e-4b21-96a4-142bd879010e",
        "colab": {
          "base_uri": "https://localhost:8080/"
        }
      },
      "source": [
        "#generate target of train\n",
        "y_train = np.concatenate(list(list(gen_target(train_data[train_data['UnitNumber']==unit], sequence_length, \"RUL\")) for unit in train_data['UnitNumber'].unique()))\n",
        "y_train.shape"
      ],
      "execution_count": 35,
      "outputs": [
        {
          "output_type": "execute_result",
          "data": {
            "text/plain": [
              "(36079,)"
            ]
          },
          "metadata": {
            "tags": []
          },
          "execution_count": 35
        }
      ]
    },
    {
      "cell_type": "code",
      "metadata": {
        "id": "w9TJiMjb2X4r",
        "outputId": "83c21cef-a680-4e67-9fa9-9af706167718",
        "colab": {
          "base_uri": "https://localhost:8080/"
        }
      },
      "source": [
        "#generate test\n",
        "x_test=np.concatenate(list(list(gen_test(df_test[df_test['UnitNumber']==unit], sequence_length, features, mask_value)) for unit in df_test['UnitNumber'].unique()))\n",
        "print(x_test.shape)"
      ],
      "execution_count": 36,
      "outputs": [
        {
          "output_type": "stream",
          "text": [
            "(259, 50, 18)\n"
          ],
          "name": "stdout"
        }
      ]
    },
    {
      "cell_type": "code",
      "metadata": {
        "id": "pIW5nd8vsWA-",
        "outputId": "dbfc99bb-ba22-44b8-dcc6-b221eb16dbe5",
        "colab": {
          "base_uri": "https://localhost:8080/"
        }
      },
      "source": [
        "#true target of test \n",
        "y_test = y_true.RUL.values\n",
        "y_test.shape"
      ],
      "execution_count": 37,
      "outputs": [
        {
          "output_type": "execute_result",
          "data": {
            "text/plain": [
              "(259,)"
            ]
          },
          "metadata": {
            "tags": []
          },
          "execution_count": 37
        }
      ]
    },
    {
      "cell_type": "markdown",
      "metadata": {
        "id": "nPQuiaYdqAbK"
      },
      "source": [
        "## Model"
      ]
    },
    {
      "cell_type": "code",
      "metadata": {
        "id": "M96fjhxdB-69"
      },
      "source": [
        "nb_features = x_train.shape[2]\n",
        "nb_out = 1"
      ],
      "execution_count": 38,
      "outputs": []
    },
    {
      "cell_type": "code",
      "metadata": {
        "id": "R9iZRDSaCfpd",
        "outputId": "cd759afa-1fc3-420c-bb50-fcbce1ccc7b6",
        "colab": {
          "base_uri": "https://localhost:8080/"
        }
      },
      "source": [
        "nb_features"
      ],
      "execution_count": 39,
      "outputs": [
        {
          "output_type": "execute_result",
          "data": {
            "text/plain": [
              "18"
            ]
          },
          "metadata": {
            "tags": []
          },
          "execution_count": 39
        }
      ]
    },
    {
      "cell_type": "code",
      "metadata": {
        "id": "cC5c1yijChK1",
        "outputId": "e7b71a71-8013-4611-9488-7b64e977e117",
        "colab": {
          "base_uri": "https://localhost:8080/"
        }
      },
      "source": [
        "history = History()\n",
        "\n",
        "model = Sequential()\n",
        "model.add(LSTM(\n",
        "         units=100,\n",
        "         return_sequences=True,\n",
        "         input_shape=(sequence_length, nb_features)))\n",
        "model.add(Dropout(0.1))\n",
        "model.add(LSTM(\n",
        "          units=150,\n",
        "          return_sequences=False))\n",
        "# model.add(Dropout(0.5))\n",
        "# model.add(Dense(units=100, activation='relu'))\n",
        "# model.add(Activation(\"relu\"))\n",
        "model.add(Dropout(0.2))\n",
        "model.add(Dense(units=1, activation='relu'))\n",
        "model.add(Activation(\"relu\"))\n",
        "model.compile(loss=\"mse\", optimizer=\"rmsprop\", metrics=['mse'])\n",
        "\n",
        "model.summary()"
      ],
      "execution_count": 51,
      "outputs": [
        {
          "output_type": "stream",
          "text": [
            "Model: \"sequential_2\"\n",
            "_________________________________________________________________\n",
            "Layer (type)                 Output Shape              Param #   \n",
            "=================================================================\n",
            "lstm_4 (LSTM)                (None, 50, 100)           47600     \n",
            "_________________________________________________________________\n",
            "dropout_4 (Dropout)          (None, 50, 100)           0         \n",
            "_________________________________________________________________\n",
            "lstm_5 (LSTM)                (None, 150)               150600    \n",
            "_________________________________________________________________\n",
            "dropout_5 (Dropout)          (None, 150)               0         \n",
            "_________________________________________________________________\n",
            "dense_2 (Dense)              (None, 1)                 151       \n",
            "_________________________________________________________________\n",
            "activation_2 (Activation)    (None, 1)                 0         \n",
            "=================================================================\n",
            "Total params: 198,351\n",
            "Trainable params: 198,351\n",
            "Non-trainable params: 0\n",
            "_________________________________________________________________\n"
          ],
          "name": "stdout"
        }
      ]
    },
    {
      "cell_type": "markdown",
      "metadata": {
        "id": "i_WcR3CxjHNX"
      },
      "source": [
        "## Training"
      ]
    },
    {
      "cell_type": "code",
      "metadata": {
        "id": "IONep0oeCms7",
        "outputId": "a5fefa77-8915-437b-8fe2-f3d025c1343e",
        "colab": {
          "base_uri": "https://localhost:8080/"
        }
      },
      "source": [
        "%%time\n",
        "# fit the model\n",
        "model.fit(x_train, y_train, epochs=50, batch_size=1000, validation_split=0.1, verbose=1,\n",
        "          callbacks = [history, keras.callbacks.EarlyStopping(monitor='val_loss', min_delta=0, patience=10, verbose=0, mode='auto')])"
      ],
      "execution_count": 52,
      "outputs": [
        {
          "output_type": "stream",
          "text": [
            "Epoch 1/50\n",
            "33/33 [==============================] - 2s 59ms/step - loss: 6480.6694 - mse: 6480.6694 - val_loss: 7960.2148 - val_mse: 7960.2148\n",
            "Epoch 2/50\n",
            "33/33 [==============================] - 1s 40ms/step - loss: 5614.7168 - mse: 5614.7168 - val_loss: 7342.5620 - val_mse: 7342.5620\n",
            "Epoch 3/50\n",
            "33/33 [==============================] - 1s 40ms/step - loss: 5131.5347 - mse: 5131.5347 - val_loss: 6790.1885 - val_mse: 6790.1885\n",
            "Epoch 4/50\n",
            "33/33 [==============================] - 1s 40ms/step - loss: 4697.5703 - mse: 4697.5703 - val_loss: 6279.1855 - val_mse: 6279.1855\n",
            "Epoch 5/50\n",
            "33/33 [==============================] - 1s 40ms/step - loss: 4306.6440 - mse: 4306.6440 - val_loss: 5814.5234 - val_mse: 5814.5234\n",
            "Epoch 6/50\n",
            "33/33 [==============================] - 1s 40ms/step - loss: 3965.1812 - mse: 3965.1812 - val_loss: 5399.4395 - val_mse: 5399.4395\n",
            "Epoch 7/50\n",
            "33/33 [==============================] - 1s 40ms/step - loss: 3667.6079 - mse: 3667.6079 - val_loss: 5027.2656 - val_mse: 5027.2656\n",
            "Epoch 8/50\n",
            "33/33 [==============================] - 1s 40ms/step - loss: 3446.3008 - mse: 3446.3008 - val_loss: 4751.6777 - val_mse: 4751.6777\n",
            "Epoch 9/50\n",
            "33/33 [==============================] - 1s 40ms/step - loss: 3229.1628 - mse: 3229.1628 - val_loss: 4434.9175 - val_mse: 4434.9175\n",
            "Epoch 10/50\n",
            "33/33 [==============================] - 1s 41ms/step - loss: 3050.7805 - mse: 3050.7805 - val_loss: 4194.5430 - val_mse: 4194.5430\n",
            "Epoch 11/50\n",
            "33/33 [==============================] - 1s 40ms/step - loss: 2927.4307 - mse: 2927.4307 - val_loss: 3986.0042 - val_mse: 3986.0042\n",
            "Epoch 12/50\n",
            "33/33 [==============================] - 1s 41ms/step - loss: 2839.1770 - mse: 2839.1770 - val_loss: 3841.8147 - val_mse: 3841.8147\n",
            "Epoch 13/50\n",
            "33/33 [==============================] - 1s 40ms/step - loss: 2799.9543 - mse: 2799.9543 - val_loss: 3759.7761 - val_mse: 3759.7761\n",
            "Epoch 14/50\n",
            "33/33 [==============================] - 1s 40ms/step - loss: 2790.1633 - mse: 2790.1633 - val_loss: 3721.4595 - val_mse: 3721.4595\n",
            "Epoch 15/50\n",
            "33/33 [==============================] - 1s 41ms/step - loss: 2793.0369 - mse: 2793.0369 - val_loss: 3725.3076 - val_mse: 3725.3076\n",
            "Epoch 16/50\n",
            "33/33 [==============================] - 1s 41ms/step - loss: 2790.1306 - mse: 2790.1306 - val_loss: 3722.0906 - val_mse: 3722.0906\n",
            "Epoch 17/50\n",
            "33/33 [==============================] - 1s 41ms/step - loss: 2781.6860 - mse: 2781.6860 - val_loss: 4046.2139 - val_mse: 4046.2139\n",
            "Epoch 18/50\n",
            "33/33 [==============================] - 1s 41ms/step - loss: 2766.5486 - mse: 2766.5486 - val_loss: 3605.9915 - val_mse: 3605.9915\n",
            "Epoch 19/50\n",
            "33/33 [==============================] - 1s 41ms/step - loss: 2719.8069 - mse: 2719.8069 - val_loss: 3593.8381 - val_mse: 3593.8381\n",
            "Epoch 20/50\n",
            "33/33 [==============================] - 1s 42ms/step - loss: 2651.9126 - mse: 2651.9126 - val_loss: 3406.7290 - val_mse: 3406.7290\n",
            "Epoch 21/50\n",
            "33/33 [==============================] - 1s 41ms/step - loss: 2582.2751 - mse: 2582.2751 - val_loss: 3209.6709 - val_mse: 3209.6709\n",
            "Epoch 22/50\n",
            "33/33 [==============================] - 1s 41ms/step - loss: 2357.6516 - mse: 2357.6516 - val_loss: 2952.0515 - val_mse: 2952.0515\n",
            "Epoch 23/50\n",
            "33/33 [==============================] - 1s 41ms/step - loss: 2226.6411 - mse: 2226.6411 - val_loss: 2792.7014 - val_mse: 2792.7014\n",
            "Epoch 24/50\n",
            "33/33 [==============================] - 1s 41ms/step - loss: 2081.3962 - mse: 2081.3962 - val_loss: 2691.8796 - val_mse: 2691.8796\n",
            "Epoch 25/50\n",
            "33/33 [==============================] - 1s 41ms/step - loss: 1982.7449 - mse: 1982.7449 - val_loss: 2550.0779 - val_mse: 2550.0779\n",
            "Epoch 26/50\n",
            "33/33 [==============================] - 1s 41ms/step - loss: 1879.6859 - mse: 1879.6859 - val_loss: 2613.1956 - val_mse: 2613.1956\n",
            "Epoch 27/50\n",
            "33/33 [==============================] - 1s 41ms/step - loss: 1823.9182 - mse: 1823.9182 - val_loss: 2363.7505 - val_mse: 2363.7505\n",
            "Epoch 28/50\n",
            "33/33 [==============================] - 1s 41ms/step - loss: 1745.3752 - mse: 1745.3752 - val_loss: 2180.9512 - val_mse: 2180.9512\n",
            "Epoch 29/50\n",
            "33/33 [==============================] - 1s 41ms/step - loss: 1673.4871 - mse: 1673.4871 - val_loss: 2178.1228 - val_mse: 2178.1228\n",
            "Epoch 30/50\n",
            "33/33 [==============================] - 1s 41ms/step - loss: 1622.3402 - mse: 1622.3402 - val_loss: 1896.4747 - val_mse: 1896.4747\n",
            "Epoch 31/50\n",
            "33/33 [==============================] - 1s 41ms/step - loss: 1528.8177 - mse: 1528.8177 - val_loss: 2297.4377 - val_mse: 2297.4377\n",
            "Epoch 32/50\n",
            "33/33 [==============================] - 1s 41ms/step - loss: 1537.5262 - mse: 1537.5262 - val_loss: 1917.8080 - val_mse: 1917.8080\n",
            "Epoch 33/50\n",
            "33/33 [==============================] - 1s 41ms/step - loss: 1468.3496 - mse: 1468.3496 - val_loss: 1793.9028 - val_mse: 1793.9028\n",
            "Epoch 34/50\n",
            "33/33 [==============================] - 1s 41ms/step - loss: 1445.3323 - mse: 1445.3323 - val_loss: 2117.5015 - val_mse: 2117.5015\n",
            "Epoch 35/50\n",
            "33/33 [==============================] - 1s 41ms/step - loss: 1413.3845 - mse: 1413.3845 - val_loss: 1980.7384 - val_mse: 1980.7384\n",
            "Epoch 36/50\n",
            "33/33 [==============================] - 1s 41ms/step - loss: 1372.5074 - mse: 1372.5074 - val_loss: 1562.1783 - val_mse: 1562.1783\n",
            "Epoch 37/50\n",
            "33/33 [==============================] - 1s 41ms/step - loss: 1347.9863 - mse: 1347.9863 - val_loss: 1986.7932 - val_mse: 1986.7932\n",
            "Epoch 38/50\n",
            "33/33 [==============================] - 1s 41ms/step - loss: 1318.5237 - mse: 1318.5237 - val_loss: 1768.6926 - val_mse: 1768.6926\n",
            "Epoch 39/50\n",
            "33/33 [==============================] - 1s 41ms/step - loss: 1294.6692 - mse: 1294.6692 - val_loss: 1549.5978 - val_mse: 1549.5978\n",
            "Epoch 40/50\n",
            "33/33 [==============================] - 1s 41ms/step - loss: 1248.4266 - mse: 1248.4266 - val_loss: 1850.1124 - val_mse: 1850.1124\n",
            "Epoch 41/50\n",
            "33/33 [==============================] - 1s 41ms/step - loss: 1239.9211 - mse: 1239.9211 - val_loss: 2104.1309 - val_mse: 2104.1309\n",
            "Epoch 42/50\n",
            "33/33 [==============================] - 1s 41ms/step - loss: 1206.1752 - mse: 1206.1752 - val_loss: 1407.9989 - val_mse: 1407.9989\n",
            "Epoch 43/50\n",
            "33/33 [==============================] - 1s 41ms/step - loss: 1197.3744 - mse: 1197.3744 - val_loss: 1678.5613 - val_mse: 1678.5613\n",
            "Epoch 44/50\n",
            "33/33 [==============================] - 1s 40ms/step - loss: 1168.0948 - mse: 1168.0948 - val_loss: 2097.3291 - val_mse: 2097.3291\n",
            "Epoch 45/50\n",
            "33/33 [==============================] - 1s 41ms/step - loss: 1232.8274 - mse: 1232.8274 - val_loss: 1383.3549 - val_mse: 1383.3549\n",
            "Epoch 46/50\n",
            "33/33 [==============================] - 1s 40ms/step - loss: 1136.6035 - mse: 1136.6035 - val_loss: 1671.0912 - val_mse: 1671.0912\n",
            "Epoch 47/50\n",
            "33/33 [==============================] - 1s 41ms/step - loss: 1139.1488 - mse: 1139.1488 - val_loss: 1265.8375 - val_mse: 1265.8375\n",
            "Epoch 48/50\n",
            "33/33 [==============================] - 1s 40ms/step - loss: 1115.1617 - mse: 1115.1617 - val_loss: 1183.6631 - val_mse: 1183.6631\n",
            "Epoch 49/50\n",
            "33/33 [==============================] - 1s 40ms/step - loss: 1091.3491 - mse: 1091.3491 - val_loss: 1283.1237 - val_mse: 1283.1237\n",
            "Epoch 50/50\n",
            "33/33 [==============================] - 1s 40ms/step - loss: 1113.6201 - mse: 1113.6201 - val_loss: 1260.6178 - val_mse: 1260.6178\n",
            "CPU times: user 46.6 s, sys: 12.8 s, total: 59.4 s\n",
            "Wall time: 1min 12s\n"
          ],
          "name": "stdout"
        },
        {
          "output_type": "execute_result",
          "data": {
            "text/plain": [
              "<tensorflow.python.keras.callbacks.History at 0x7fc0708f8278>"
            ]
          },
          "metadata": {
            "tags": []
          },
          "execution_count": 52
        }
      ]
    },
    {
      "cell_type": "code",
      "metadata": {
        "id": "p8PIPN3aCrYv",
        "outputId": "239a1cc6-de3a-41e2-cac6-13537c700b6a",
        "colab": {
          "base_uri": "https://localhost:8080/",
          "height": 301
        }
      },
      "source": [
        "plt.plot(history.history['mse'])\n",
        "plt.plot(history.history['val_mse'])\n",
        "plt.title('MSE')\n",
        "plt.ylabel('Mean Squared Error')\n",
        "plt.xlabel('# Epoch')\n",
        "plt.legend(['train', 'test'], loc='upper left')\n",
        "plt.show()"
      ],
      "execution_count": 53,
      "outputs": [
        {
          "output_type": "display_data",
          "data": {
            "image/png": "[encoded data removed]",
            "text/plain": [
              "<Figure size 432x288 with 1 Axes>"
            ]
          },
          "metadata": {
            "tags": []
          }
        }
      ]
    },
    {
      "cell_type": "code",
      "metadata": {
        "id": "DkQK3qXmNdHL",
        "outputId": "98c808c9-96d7-47f2-8e3d-ace35b3e08fa",
        "colab": {
          "base_uri": "https://localhost:8080/"
        }
      },
      "source": [
        "scores_test = model.evaluate(x_test, y_test, verbose=2)\n",
        "# print('MSE: {}'.format(scores_test[1]))"
      ],
      "execution_count": 54,
      "outputs": [
        {
          "output_type": "stream",
          "text": [
            "9/9 - 0s - loss: 1848.5114 - mse: 1848.5114\n"
          ],
          "name": "stdout"
        }
      ]
    },
    {
      "cell_type": "code",
      "metadata": {
        "id": "cZ9UxgRutklq",
        "outputId": "0ffdcb69-1ce5-4c50-9b82-38b7296e9b1c",
        "colab": {
          "base_uri": "https://localhost:8080/",
          "height": 328
        }
      },
      "source": [
        "y_pred_test = model.predict(x_test, verbose=0)\n",
        "\n",
        "plt.figure(figsize=(30,8))\n",
        "plt.plot(y_pred_test, color='red', label='Prediction')\n",
        "plt.plot(y_test, color='blue', label='Ground Truth')\n",
        "plt.ylabel(\"RUL\")\n",
        "plt.xlabel(\"Unit Number\")\n",
        "plt.legend(loc='upper left')\n",
        "plt.show()"
      ],
      "execution_count": 55,
      "outputs": [
        {
          "output_type": "display_data",
          "data": {
            "image/png": "[encoded data removed]",
            "text/plain": [
              "<Figure size 2160x576 with 1 Axes>"
            ]
          },
          "metadata": {
            "tags": []
          }
        }
      ]
    },
    {
      "cell_type": "markdown",
      "metadata": {
        "id": "3hu3HN70oHGQ"
      },
      "source": [
        "# Exponential Degradation"
      ]
    },
    {
      "cell_type": "markdown",
      "metadata": {
        "id": "EsrzHXC6c3Xh"
      },
      "source": [
        "## Data Preprocessing"
      ]
    },
    {
      "cell_type": "code",
      "metadata": {
        "id": "4NWtr8wOc2wg"
      },
      "source": [
        ""
      ],
      "execution_count": 55,
      "outputs": []
    },
    {
      "cell_type": "code",
      "metadata": {
        "id": "BU1yppYtoKRj"
      },
      "source": [
        ""
      ],
      "execution_count": 55,
      "outputs": []
    },
    {
      "cell_type": "markdown",
      "metadata": {
        "id": "FuMtacdfoLWF"
      },
      "source": [
        "# Similarity Based Degradation"
      ]
    },
    {
      "cell_type": "code",
      "metadata": {
        "id": "Xl9OxWQpoOf0"
      },
      "source": [
        ""
      ],
      "execution_count": 55,
      "outputs": []
    }
  ]
}